{
 "cells": [
  {
   "cell_type": "markdown",
   "metadata": {},
   "source": [
    "## A binominal model of comments"
   ]
  },
  {
   "cell_type": "code",
   "execution_count": 4,
   "metadata": {},
   "outputs": [
    {
     "data": {
      "image/png": "[encoded data removed]",
      "text/plain": [
       "<Figure size 640x480 with 1 Axes>"
      ]
     },
     "metadata": {},
     "output_type": "display_data"
    }
   ],
   "source": [
    "import numpy as np\n",
    "import matplotlib.pyplot as plt\n",
    "from scipy.stats import binom\n",
    "\n",
    "n = 100\n",
    "p = 0.3\n",
    "k_values = np.arange(0, n+1)\n",
    "\n",
    "pmf_values = binom.pmf(k_values,n,p)\n",
    "\n",
    "max_k = k_values[np.argmax(pmf_values)]\n",
    "max_prob = np.max(pmf_values)\n",
    "\n",
    "plt.bar(k_values,pmf_values)\n",
    "plt.xlabel(\"positive comments' number in actual dataset\")\n",
    "plt.ylabel(\"P(X=k)\")\n",
    "plt.grid(visible=True)\n",
    "plt.show()"
   ]
  },
  {
   "cell_type": "code",
   "execution_count": null,
   "metadata": {},
   "outputs": [
    {
     "data": {
      "application/vnd.jupyter.widget-view+json": {
       "model_id": "7989ea61a5cc4a8da4d34b118526096d",
       "version_major": 2,
       "version_minor": 0
      },
      "text/plain": [
       "interactive(children=(FloatSlider(value=0.3, description='p:', max=1.0, step=0.01), Output()), _dom_classes=('…"
      ]
     },
     "metadata": {},
     "output_type": "display_data"
    },
    {
     "data": {
      "text/plain": [
       "<function __main__.plot_binom(p=0.3)>"
      ]
     },
     "execution_count": 5,
     "metadata": {},
     "output_type": "execute_result"
    }
   ],
   "source": [
    "import numpy as np\n",
    "import matplotlib.pyplot as plt\n",
    "from scipy.stats import binom\n",
    "import ipywidgets as widgets\n",
    "from ipywidgets import interact\n",
    "\n",
    "# Set a fixed number of trials\n",
    "n = 100\n",
    "\n",
    "def plot_binom(p=0.3):\n",
    "    # Compute k values and PMF values for binomial distribution\n",
    "    k_values = np.arange(0, n+1)\n",
    "    pmf_values = binom.pmf(k_values, n, p)\n",
    "    \n",
    "    # Find the k with maximum probability\n",
    "    max_k = k_values[np.argmax(pmf_values)]\n",
    "    \n",
    "    # Create the bar chart\n",
    "    plt.figure(figsize=(10,6))\n",
    "    plt.bar(k_values, pmf_values, color='skyblue', edgecolor='black')\n",
    "    plt.xlabel(\"Number of 'good' comments (k)\")\n",
    "    plt.ylabel(\"Probability P(X=k)\")\n",
    "    plt.title(f\"Binomial Distribution PMF (n=100, p={p:.2f})\")\n",
    "    \n",
    "    # Mark the most likely value with a red dashed line\n",
    "    plt.axvline(max_k, color='red', linestyle='--', linewidth=2, label=f\"Max at k = {max_k}\")\n",
    "    plt.legend()\n",
    "    plt.grid(True, linestyle='--', alpha=0.6)\n",
    "    plt.show()\n",
    "\n",
    "# Create an interactive slider for p (probability of a comment containing \"good\")\n",
    "interact(plot_binom, p=widgets.FloatSlider(value=0.3, min=0, max=1, step=0.01, description='p:'))\n"
   ]
  }
 ],
 "metadata": {
  "kernelspec": {
   "display_name": "Python 3",
   "language": "python",
   "name": "python3"
  },
  "language_info": {
   "codemirror_mode": {
    "name": "ipython",
    "version": 3
   },
   "file_extension": ".py",
   "mimetype": "text/x-python",
   "name": "python",
   "nbconvert_exporter": "python",
   "pygments_lexer": "ipython3",
   "version": "3.12.3"
  }
 },
 "nbformat": 4,
 "nbformat_minor": 2
}
