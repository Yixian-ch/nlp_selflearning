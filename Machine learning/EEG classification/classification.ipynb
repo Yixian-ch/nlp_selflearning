{
 "cells": [
  {
   "cell_type": "code",
   "execution_count": 3,
   "metadata": {},
   "outputs": [],
   "source": [
    "import os\n",
    "os.environ['CUDA_VISIBLE_DEVICES'] = '-1'"
   ]
  },
  {
   "cell_type": "code",
   "execution_count": 7,
   "metadata": {},
   "outputs": [
    {
     "name": "stdout",
     "output_type": "stream",
     "text": [
      "<class 'pandas.core.frame.DataFrame'>\n",
      "RangeIndex: 40 entries, 0 to 39\n",
      "Columns: 322 entries, Unnamed: 0 to target\n",
      "dtypes: float64(320), int64(2)\n",
      "memory usage: 100.8 KB\n"
     ]
    }
   ],
   "source": [
    "import pandas as pd\n",
    "import keras\n",
    "\n",
    "df = pd.read_csv(\"EEG data - Sheet1.csv\")\n",
    "df.info()"
   ]
  },
  {
   "cell_type": "markdown",
   "metadata": {},
   "source": [
    "# Binary classification using SVM\n",
    "our data has much more features than samples `RangeIndex: 40 entries, 0 to 39 Columns: 322 entries`\n",
    "`If the number of features is much greater than the number of samples, avoid over-fitting in choosing Kernel functions and regularization term is crucial.`\n",
    "## Two main ideas of SVM\n",
    "svm is more like an optimization for linear classification\n",
    "- Find the maximal margin. Draw tree lines: one to capture data points of one class, one to capture data points of another class, last one to measure their distance. The two first lines are also the border of each class. How the border is defined? Visualy, it's kind evident, but why we know it's a border?? two kinds of margin: hard and soft\n",
    "- Sometimes, data points are not separable in the current dimension, so we can transform our data in higher dimension to find the separable border(why not lower?). And this transformation can be expensive, so we have different ways to do this transformation, which are also called kernels. For example: `polynominal kernel`, `radial basis function rbf`, `sigmoid kernel`."
   ]
  },
  {
   "cell_type": "code",
   "execution_count": 9,
   "metadata": {},
   "outputs": [
    {
     "data": {
      "text/plain": [
       "array([1])"
      ]
     },
     "execution_count": 9,
     "metadata": {},
     "output_type": "execute_result"
    }
   ],
   "source": [
    "from sklearn import svm\n",
    "X = [[0, 0], [1, 1]]\n",
    "y = [0, 1]\n",
    "clf = svm.SVC()\n",
    "clf.fit(X, y)\n",
    "clf.predict([[2., 2.]])"
   ]
  }
 ],
 "metadata": {
  "kernelspec": {
   "display_name": "base",
   "language": "python",
   "name": "python3"
  },
  "language_info": {
   "codemirror_mode": {
    "name": "ipython",
    "version": 3
   },
   "file_extension": ".py",
   "mimetype": "text/x-python",
   "name": "python",
   "nbconvert_exporter": "python",
   "pygments_lexer": "ipython3",
   "version": "3.12.7"
  }
 },
 "nbformat": 4,
 "nbformat_minor": 2
}
