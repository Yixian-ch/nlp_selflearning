{
 "cells": [
  {
   "cell_type": "code",
   "execution_count": 1,
   "metadata": {},
   "outputs": [
    {
     "name": "stdout",
     "output_type": "stream",
     "text": [
      "  t\\twug\\tneurone\\tclasse\n",
      "0   2\\t2\\t0\\tlinguistique\n",
      "1   1\\t3\\t2\\tlinguistique\n",
      "2   3\\t2\\t2\\tlinguistique\n",
      "3   4\\t2\\t1\\tlinguistique\n",
      "4   5\\t4\\t4\\tinformatique\n",
      "5   6\\t1\\t3\\tinformatique\n",
      "6   7\\t1\\t2\\tinformatique\n"
     ]
    }
   ],
   "source": [
    "import pandas as pd\n",
    "\n",
    "data = pd.read_csv(\"ling-info.csv\")\n",
    "\n",
    "print(data)"
   ]
  }
 ],
 "metadata": {
  "kernelspec": {
   "display_name": "Python 3 (ipykernel)",
   "language": "python",
   "name": "python3"
  },
  "language_info": {
   "codemirror_mode": {
    "name": "ipython",
    "version": 3
   },
   "file_extension": ".py",
   "mimetype": "text/x-python",
   "name": "python",
   "nbconvert_exporter": "python",
   "pygments_lexer": "ipython3",
   "version": "3.12.3"
  }
 },
 "nbformat": 4,
 "nbformat_minor": 2
}
