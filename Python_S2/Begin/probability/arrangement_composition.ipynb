{
 "cells": [
  {
   "cell_type": "code",
   "execution_count": 7,
   "id": "416bf8eb",
   "metadata": {},
   "outputs": [
    {
     "name": "stdout",
     "output_type": "stream",
     "text": [
      "(1.0, 1.0)\n",
      "(0.1, 0.1)\n",
      "(0.022222222222222223, 0.022222222222222223)\n",
      "(0.008333333333333333, 0.008333333333333333)\n",
      "(0.004761904761904762, 0.004761904761904762)\n",
      "(0.003968253968253968, 0.003968253968253968)\n",
      "(0.004761904761904762, 0.004761904761904762)\n",
      "(0.008333333333333333, 0.008333333333333333)\n",
      "(0.022222222222222223, 0.022222222222222223)\n",
      "(0.1, 0.1)\n"
     ]
    }
   ],
   "source": [
    "def facto(n) -> int:\n",
    "    if n < 0 :\n",
    "        print(\"input should not smaller than 0\")\n",
    "        raise ValueError\n",
    "    if isinstance(n,float):\n",
    "        print(\"input should be int\")\n",
    "        raise TypeError\n",
    "    if n <= 1:\n",
    "        return 1\n",
    "    return n * facto(n - 1)\n",
    "    \n",
    "def pAC(n:int,k:int,factoriel:callable) -> float:\n",
    "    if k > n:\n",
    "        print(f\"k:{k} should be less or equal to n:{n}\")\n",
    "        raise ValueError\n",
    "    p_A = factoriel(n) / factoriel(n-k) # event happends k time, the avariable choices n each time decrease 1\n",
    "    p_C = factoriel(n) / factoriel(n-k) / factoriel(k) # based on arrangement, but we only care about if an event happens or not. In arrangement, same event happends several times with different order, but in composition we do not care about its order, so the result should be divided by k's factoriel\n",
    "    p_A = factoriel(k) / p_A\n",
    "    p_C = 1 / p_C\n",
    "    return p_A,p_C\n",
    "\n",
    "for i in range(10):\n",
    "    print(pAC(10,i,facto))"
   ]
  }
 ],
 "metadata": {
  "kernelspec": {
   "display_name": "base",
   "language": "python",
   "name": "python3"
  },
  "language_info": {
   "codemirror_mode": {
    "name": "ipython",
    "version": 3
   },
   "file_extension": ".py",
   "mimetype": "text/x-python",
   "name": "python",
   "nbconvert_exporter": "python",
   "pygments_lexer": "ipython3",
   "version": "3.12.7"
  }
 },
 "nbformat": 4,
 "nbformat_minor": 5
}
