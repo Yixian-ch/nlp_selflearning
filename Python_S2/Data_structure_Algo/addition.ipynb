{
 "cells": [
  {
   "cell_type": "markdown",
   "id": "0ff4b74c",
   "metadata": {},
   "source": [
    "## int2str"
   ]
  },
  {
   "cell_type": "code",
   "execution_count": 4,
   "id": "1a71455e",
   "metadata": {},
   "outputs": [
    {
     "name": "stdout",
     "output_type": "stream",
     "text": [
      "64\n"
     ]
    }
   ],
   "source": [
    "def binary2str(x):\n",
    "    columns = [1]\n",
    "    while columns[-1] * 2 <= x:\n",
    "        columns.append(columns[-1]*2)\n",
    "    \n",
    "    result = \"\"\n",
    "    for i in reversed(columns):\n",
    "        if i <= x:\n",
    "            result += \"1\"\n",
    "            x -= i\n",
    "        else:\n",
    "            result += \"0\"\n",
    "    return result\n",
    "\n",
    "def hexa2str(x, base):\n",
    "    columns = \"0123456789ABCDFE\"\n",
    "    if x < base:\n",
    "        return columns[x]\n",
    "    \n",
    "    return hexa2str(x // base, base) + columns[x % base]\n",
    "\n",
    "print(hexa2str(100, 16))"
   ]
  },
  {
   "cell_type": "code",
   "execution_count": 1,
   "id": "480d7b76",
   "metadata": {},
   "outputs": [
    {
     "name": "stdout",
     "output_type": "stream",
     "text": [
      "0\n"
     ]
    }
   ],
   "source": [
    "def mod_2(x, b): # more fun !\n",
    "    # simple case : 0\n",
    "    if x == 0:\n",
    "        return 0\n",
    "\n",
    "    # more complex cases : x != 0\n",
    "    m = 1 + mod_2(x-1, b) # 1 + modulo of the number just below\n",
    "\n",
    "    # new simplest case : m == b, cause b mod b is 0\n",
    "    if m == b:\n",
    "        return 0\n",
    "    else:\n",
    "        return m\n",
    "print(mod_2(2,1))"
   ]
  },
  {
   "cell_type": "code",
   "execution_count": 1,
   "id": "55df86e3",
   "metadata": {},
   "outputs": [
    {
     "name": "stdout",
     "output_type": "stream",
     "text": [
      "1100100\n"
     ]
    }
   ],
   "source": [
    "def int2str(x, b):\n",
    "    alist = \"0123456789ABCDE\"\n",
    "    if x < b:\n",
    "        return alist[x]\n",
    "    return int2str(x // b, b) + alist[x % b]\n",
    "\n",
    "print(int2str(100,2))"
   ]
  }
 ],
 "metadata": {
  "kernelspec": {
   "display_name": "base",
   "language": "python",
   "name": "python3"
  },
  "language_info": {
   "codemirror_mode": {
    "name": "ipython",
    "version": 3
   },
   "file_extension": ".py",
   "mimetype": "text/x-python",
   "name": "python",
   "nbconvert_exporter": "python",
   "pygments_lexer": "ipython3",
   "version": "3.12.7"
  }
 },
 "nbformat": 4,
 "nbformat_minor": 5
}
