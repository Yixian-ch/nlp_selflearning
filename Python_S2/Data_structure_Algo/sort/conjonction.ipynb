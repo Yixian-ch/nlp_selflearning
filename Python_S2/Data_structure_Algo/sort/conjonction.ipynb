{
 "cells": [
  {
   "cell_type": "markdown",
   "id": "bb15f8c8",
   "metadata": {},
   "source": [
    "# Count if two words are the conjugaison of each other"
   ]
  },
  {
   "cell_type": "markdown",
   "id": "271c6417",
   "metadata": {},
   "source": [
    "## O(n**2)\n",
    "python thonpy\n",
    "Compare character by charater by starting with one of them. We compare its first character with all the characters of the other word. Once we find a correspondance, we mark this character, and we start to check the second character and so on. If for one character, after checking all characters of the second word but no correspondance has been found, then we end our check by returning false\n",
    "How to compare, we need to a pointer and a condition. The first one helps us check one by one, then second one controls the correspondance, we need 2 conditons, one to tell the program for one character if there is a correspondance of not, if not, we pass the information to our main loop to tell it when ends.\n"
   ]
  },
  {
   "cell_type": "code",
   "execution_count": null,
   "id": "0d366a7c",
   "metadata": {},
   "outputs": [],
   "source": [
    "def sort(word1,word2):\n",
    "# since in Python, str can not be modified, so we need to copy it by turning it into a list which is a changable type\n",
    "    alist = list(word2)\n",
    "    pos1 = 0\n",
    "    stillOk = True\n",
    "    while pos1 < len(word1) and stillOk:\n",
    "        pos2 = 0\n",
    "        found = False\n",
    "        while pos2 < len(word2) and not found:\n",
    "            if word1[pos1] == word2[pos2]:\n",
    "                found = True\n",
    "            else:\n",
    "                pos2 += 1\n",
    "        if found:\n",
    "            pos1 += 1\n",
    "            alist[pos2] = None\n",
    "        else:\n",
    "            stillOk = False\n",
    "    return stillOk"
   ]
  },
  {
   "cell_type": "markdown",
   "id": "8754fbc2",
   "metadata": {},
   "source": [
    "## O(n)\n",
    "more quick more menmory used\n",
    "for alphabetic words, another way to know if they are the conjugaison of each other is to use a alphabetic calculator. For two words, if they have the same occurrency for each character, it means they are.\n",
    "build 2 calculators\n",
    "for each word, count the occurrency of its characters\n",
    "compare the information stored in calculators using pointer"
   ]
  },
  {
   "cell_type": "code",
   "execution_count": 16,
   "id": "d5030388",
   "metadata": {},
   "outputs": [
    {
     "name": "stdout",
     "output_type": "stream",
     "text": [
      "True\n"
     ]
    }
   ],
   "source": [
    "def quick_one(word1, word2):\n",
    "    cal1 = {}\n",
    "    cal2 = {}\n",
    "\n",
    "    for w in word1:\n",
    "        if w not in cal1:\n",
    "            cal1[w] = 1\n",
    "        cal1[w] += 1\n",
    "\n",
    "    for w in word2:\n",
    "        if w not in cal2:\n",
    "            cal2[w] = 1\n",
    "        cal2[w] += 1\n",
    "\n",
    "\n",
    "    for char in word1:\n",
    "        found = True\n",
    "        if char not in cal2 or cal1[char] != cal2[char]: # handle two situations: if the word does not even exist in the second word, return false. Or, if it exists, by they do not have the same value, returns false\n",
    "            found = False\n",
    "            return found\n",
    "    return found\n",
    "\n",
    "print(quick_one(\"python\",\"thonpy\"))"
   ]
  },
  {
   "cell_type": "code",
   "execution_count": 1,
   "id": "b17b4b4e",
   "metadata": {},
   "outputs": [
    {
     "name": "stdout",
     "output_type": "stream",
     "text": [
      "2.7948642280098284\n",
      "0.050898068002425134\n",
      "0.05604468499950599\n",
      "0.0238326909893658\n"
     ]
    }
   ],
   "source": [
    "from timeit import Timer\n",
    "\n",
    "def test1(a):\n",
    "    p = []\n",
    "    for i in range(1000):\n",
    "        p = p + [i]\n",
    "\n",
    "def test2():\n",
    "    p = [i for i in range(1000)]\n",
    "\n",
    "def test3():\n",
    "     p = []\n",
    "     for i in range(1000):\n",
    "         p.append(i)\n",
    "\n",
    "def test4():\n",
    "    l = list(range(1000))\n",
    "\n",
    "t1 = Timer(\"test1(100)\",\"from __main__ import test1\")\n",
    "print(t1.timeit(number=1000)) # number means times of executation\n",
    "\n",
    "t2 = Timer(\"test2()\",\"from __main__ import test2\")\n",
    "print(t2.timeit(number=1000))\n",
    "\n",
    "t3 = Timer(\"test3()\",\"from __main__ import test3\")\n",
    "print(t3.timeit(number=1000))\n",
    "\n",
    "t4 = Timer(\"test4()\",\"from __main__ import test4\")\n",
    "print(t4.timeit(number=1000))"
   ]
  },
  {
   "cell_type": "code",
   "execution_count": 4,
   "id": "6ef6affd",
   "metadata": {},
   "outputs": [
    {
     "name": "stdout",
     "output_type": "stream",
     "text": [
      "Time for pop() at end: 0.5926632009941386\n",
      "Time for pop(0) at start: 0.5741305699921213\n"
     ]
    }
   ],
   "source": [
    "from timeit import Timer\n",
    "\n",
    "def _pop_end():\n",
    "    a = list(range(20000))\n",
    "    a.pop()  # removes last element - O(1)\n",
    "\n",
    "def _pop_start():\n",
    "    a = list(range(20000))\n",
    "    a.pop(0)  # removes first element - O(n)\n",
    "\n",
    "p1 = Timer(\"_pop_end()\", \"from __main__ import _pop_end\")\n",
    "p2 = Timer(\"_pop_start()\", \"from __main__ import _pop_start\")\n",
    "\n",
    "print(\"Time for pop() at end:\", p1.timeit(number=1000))\n",
    "print(\"Time for pop(0) at start:\", p2.timeit(number=1000))"
   ]
  },
  {
   "cell_type": "markdown",
   "id": "1a7163a8",
   "metadata": {},
   "source": [
    "## Compare the time complexity of implemented methods of list and dict in Python\n",
    "`https://wiki.python.org/moin/TimeComplexity`"
   ]
  },
  {
   "cell_type": "code",
   "execution_count": null,
   "id": "b74c0d90",
   "metadata": {},
   "outputs": [
    {
     "name": "stdout",
     "output_type": "stream",
     "text": [
      "Size: 10000\n",
      "List search time: 0.153525\n",
      "Dict search time: 0.000843\n",
      "----------------------------------------\n",
      "Size: 70000\n",
      "List search time: 0.680846\n",
      "Dict search time: 0.001344\n",
      "----------------------------------------\n",
      "Size: 130000\n",
      "List search time: 1.174464\n",
      "Dict search time: 0.001571\n",
      "----------------------------------------\n",
      "Size: 190000\n",
      "List search time: 1.644356\n",
      "Dict search time: 0.000963\n",
      "----------------------------------------\n",
      "Size: 250000\n",
      "List search time: 2.153218\n",
      "Dict search time: 0.001094\n",
      "----------------------------------------\n",
      "Size: 310000\n",
      "List search time: 2.656710\n",
      "Dict search time: 0.001068\n",
      "----------------------------------------\n",
      "Size: 370000\n",
      "List search time: 3.153477\n",
      "Dict search time: 0.000995\n",
      "----------------------------------------\n",
      "Size: 430000\n",
      "List search time: 3.517819\n",
      "Dict search time: 0.000996\n",
      "----------------------------------------\n",
      "Size: 490000\n",
      "List search time: 4.674870\n",
      "Dict search time: 0.001103\n",
      "----------------------------------------\n",
      "Size: 550000\n",
      "List search time: 4.982235\n",
      "Dict search time: 0.001069\n",
      "----------------------------------------\n",
      "Size: 610000\n",
      "List search time: 5.449288\n",
      "Dict search time: 0.001053\n",
      "----------------------------------------\n",
      "Size: 670000\n",
      "List search time: 5.743161\n",
      "Dict search time: 0.001711\n",
      "----------------------------------------\n",
      "Size: 730000\n",
      "List search time: 6.633577\n",
      "Dict search time: 0.001085\n",
      "----------------------------------------\n",
      "Size: 790000\n",
      "List search time: 6.476634\n",
      "Dict search time: 0.001025\n",
      "----------------------------------------\n",
      "Size: 850000\n",
      "List search time: 7.086719\n",
      "Dict search time: 0.001026\n",
      "----------------------------------------\n",
      "Size: 910000\n",
      "List search time: 7.434247\n",
      "Dict search time: 0.001014\n",
      "----------------------------------------\n",
      "Size: 970000\n",
      "List search time: 8.557859\n",
      "Dict search time: 0.001008\n",
      "----------------------------------------\n"
     ]
    },
    {
     "data": {
      "image/png": "[encoded data removed]",
      "text/plain": [
       "<Figure size 1000x600 with 1 Axes>"
      ]
     },
     "metadata": {},
     "output_type": "display_data"
    }
   ],
   "source": [
    "import random\n",
    "import timeit\n",
    "import matplotlib.pyplot as plt\n",
    "\n",
    "def compare_operations():\n",
    "    sizes = []\n",
    "    list_times = []\n",
    "    dict_times = []\n",
    "    \n",
    "    for i in range(10000, 1000001, 60000):\n",
    "        # Create test data\n",
    "        t = list(range(i))\n",
    "        p = {j: None for j in range(i)}\n",
    "        \n",
    "        # Time list operations\n",
    "        list_time = timeit.timeit(\n",
    "            lambda: random.randrange(i) in t,\n",
    "            number=1000\n",
    "        )\n",
    "        \n",
    "        # Time dictionary operations\n",
    "        dict_time = timeit.timeit(\n",
    "            lambda: random.randrange(i) in p,\n",
    "            number=1000\n",
    "        )\n",
    "        \n",
    "        # Store results\n",
    "        sizes.append(i)\n",
    "        list_times.append(list_time)\n",
    "        dict_times.append(dict_time)\n",
    "        \n",
    "        print(f\"Size: {i}\")\n",
    "        print(f\"List search time: {list_time:.6f}\")\n",
    "        print(f\"Dict search time: {dict_time:.6f}\")\n",
    "        print(\"-\" * 40)\n",
    "    \n",
    "    # Create the plot\n",
    "    plt.figure(figsize=(10, 6))\n",
    "    plt.plot(sizes, list_times, 'b-', label='List Search')\n",
    "    plt.plot(sizes, dict_times, 'r-', label='Dict Search')\n",
    "    plt.xlabel('Data Structure Size')\n",
    "    plt.ylabel('Search Time (seconds)')\n",
    "    plt.title('Time Complexity: List vs Dictionary Search')\n",
    "    plt.legend()\n",
    "    plt.grid(True)\n",
    "    plt.show()\n",
    "\n",
    "compare_operations()"
   ]
  },
  {
   "cell_type": "code",
   "execution_count": null,
   "id": "f1c56e13",
   "metadata": {},
   "outputs": [],
   "source": []
  }
 ],
 "metadata": {
  "kernelspec": {
   "display_name": "base",
   "language": "python",
   "name": "python3"
  },
  "language_info": {
   "codemirror_mode": {
    "name": "ipython",
    "version": 3
   },
   "file_extension": ".py",
   "mimetype": "text/x-python",
   "name": "python",
   "nbconvert_exporter": "python",
   "pygments_lexer": "ipython3",
   "version": "3.12.7"
  }
 },
 "nbformat": 4,
 "nbformat_minor": 5
}
