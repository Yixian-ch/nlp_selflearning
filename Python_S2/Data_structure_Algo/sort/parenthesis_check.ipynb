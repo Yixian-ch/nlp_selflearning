{
 "cells": [
  {
   "cell_type": "markdown",
   "id": "860b1723",
   "metadata": {},
   "source": [
    "# Chech parenthesis is a basic function of many compilers\n",
    "for example html, xml syntax check"
   ]
  },
  {
   "cell_type": "code",
   "execution_count": 2,
   "id": "058c23ba",
   "metadata": {},
   "outputs": [
    {
     "name": "stdout",
     "output_type": "stream",
     "text": [
      "False\n"
     ]
    }
   ],
   "source": [
    "from stack import Stack\n",
    "\n",
    "\n",
    "def check_paren(strParenthesis):\n",
    "    stack = Stack()\n",
    "    pointer = 0\n",
    "    matched = True\n",
    "    while pointer < len(strParenthesis) and matched: \n",
    "        if strParenthesis[pointer] in \"([{\":\n",
    "            stack.push(strParenthesis[pointer])\n",
    "        else: # no right symbol will be pushed into the stack\n",
    "            if stack.is_empty():\n",
    "                matched = False\n",
    "            else:\n",
    "                top = stack.drop()\n",
    "                if not check_symbol(top,strParenthesis[pointer]):\n",
    "                    matched = False\n",
    "        pointer += 1\n",
    "    # chech if there is no element\n",
    "    if matched and stack.size() == 0:\n",
    "        return True\n",
    "    else:\n",
    "        return False\n",
    "\n",
    "def check_symbol(top_stack, current_symbol): # once this function is called, this means we do not know on the top of the stack which left symbol it is(it can never be a right symbol). We do not know neither which right symbol the current parenthesis is\n",
    "    # so, this function amis to firgure out it\n",
    "    left = \"[({\"\n",
    "    right = \"])}\"\n",
    "    return left.index(top_stack) == right.index(current_symbol)\n",
    "\n",
    "print(check_paren(\"({)}({})\"))"
   ]
  },
  {
   "cell_type": "markdown",
   "id": "5a5b0d85",
   "metadata": {},
   "source": [
    "## Decimal to binary"
   ]
  },
  {
   "cell_type": "code",
   "execution_count": null,
   "id": "0a425013",
   "metadata": {},
   "outputs": [
    {
     "name": "stdout",
     "output_type": "stream",
     "text": [
      "1C\n"
     ]
    }
   ],
   "source": [
    "def D2B(decNumber,base):\n",
    "    # 查表 because the value of numbers in the stack correspond to their idx in the digit str like a dict where key = value 0 : 0, F : 15 \n",
    "    digits = { # equal to 0123456789ABCDEF\n",
    "    \"0\": \"0\",\n",
    "    \"1\": \"1\",\n",
    "    \"2\": \"2\",\n",
    "    \"3\": \"3\",\n",
    "    \"4\": \"4\",\n",
    "    \"5\": \"5\",\n",
    "    \"6\": \"6\",\n",
    "    \"7\": \"7\",\n",
    "    \"8\": \"8\",\n",
    "    \"9\": \"9\",\n",
    "    \"10\": \"A\",\n",
    "    \"11\": \"B\",\n",
    "    \"12\": \"C\",\n",
    "    \"13\": \"D\",\n",
    "    \"14\": \"E\",\n",
    "    \"15\": \"F\"\n",
    "}\n",
    "\n",
    "    stack = Stack()\n",
    "    while decNumber > 0:\n",
    "        rem = decNumber % base\n",
    "        decNumber = decNumber // base\n",
    "        stack.push(rem)\n",
    "    bStr = \"\"\n",
    "    while not stack.is_empty():\n",
    "        bStr = bStr + digits[str(stack.drop())] # last in frist out. the first out is the highest, arranged from left to right\n",
    "    \n",
    "    return bStr\n",
    "\n",
    "print(D2B(28,16))"
   ]
  },
  {
   "cell_type": "markdown",
   "id": "2822c4a1",
   "metadata": {},
   "source": [
    "## Mathematic expression"
   ]
  },
  {
   "cell_type": "code",
   "execution_count": 41,
   "id": "d601186c",
   "metadata": {},
   "outputs": [
    {
     "name": "stdout",
     "output_type": "stream",
     "text": [
      "1B*C+\n",
      "29.0\n"
     ]
    }
   ],
   "source": [
    "def 中缀转后缀(expr:str):\n",
    "    stack = Stack()\n",
    "    后缀 = []\n",
    "    pointer = 0\n",
    "    symbols = {}\n",
    "    symbols[\"/\"] = 3\n",
    "    symbols[\"*\"] = 3\n",
    "    symbols[\"-\"] = 2\n",
    "    symbols[\"+\"] = 2\n",
    "    symbols[\"(\"] = 1\n",
    "    symbols[\")\"] = 1\n",
    "    expr = list(expr)\n",
    "    while pointer < len(expr):\n",
    "        if expr[pointer] == \"(\":\n",
    "            stack.push(expr[pointer])\n",
    "\n",
    "        elif expr[pointer] == \")\":\n",
    "            while stack.peek() != \"(\":\n",
    "                后缀.append(stack.drop())\n",
    "            stack.pop() # remove (\n",
    "        \n",
    "        # turn decimal to another base like 16, \n",
    "        elif expr[pointer].upper() in \"ABCDEFGHIJKLMNOPQRSTUVWXYZ\" or expr[pointer] in \"0123456789\":\n",
    "            后缀.append(expr[pointer].upper())\n",
    "        \n",
    "        else: \n",
    "            while (not stack.is_empty()) and (symbols[stack.peek()] > symbols[expr[pointer]]):\n",
    "                后缀.append(stack.drop())\n",
    "            stack.push(expr[pointer])\n",
    "\n",
    "        pointer += 1\n",
    "    while not stack.is_empty():\n",
    "        后缀.append(stack.drop())\n",
    "\n",
    "    return \"\".join(后缀)\n",
    "\n",
    "\n",
    "print(中缀转后缀(\"1*B+C\"))\n",
    "\n",
    "def calculate_后缀(expr:str):\n",
    "    expr = list(中缀转后缀(expr))\n",
    "    stack = Stack()\n",
    "    for token in expr:\n",
    "        if token in \"0123456789\":\n",
    "            stack.push(int(token))\n",
    "        \n",
    "        else:\n",
    "            right = stack.drop()\n",
    "            left = stack.drop()\n",
    "            stack.push(doMath(left, token, right))\n",
    "\n",
    "    return stack.drop()\n",
    "        \n",
    "def doMath(left,operator,right):\n",
    "    if operator == \"*\":\n",
    "        return left * right\n",
    "    elif operator == \"+\":\n",
    "        return left + right\n",
    "    elif operator == \"/\":\n",
    "        return left / right\n",
    "    elif operator == \"-\":\n",
    "        return left - right\n",
    "    \n",
    "\n",
    "print(calculate_后缀(\"5+8*9/3\"))\n"
   ]
  }
 ],
 "metadata": {
  "kernelspec": {
   "display_name": "base",
   "language": "python",
   "name": "python3"
  },
  "language_info": {
   "codemirror_mode": {
    "name": "ipython",
    "version": 3
   },
   "file_extension": ".py",
   "mimetype": "text/x-python",
   "name": "python",
   "nbconvert_exporter": "python",
   "pygments_lexer": "ipython3",
   "version": "3.12.7"
  }
 },
 "nbformat": 4,
 "nbformat_minor": 5
}
