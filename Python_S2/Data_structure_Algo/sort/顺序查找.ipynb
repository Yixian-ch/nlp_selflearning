{
 "cells": [
  {
   "cell_type": "markdown",
   "id": "f68878e4",
   "metadata": {},
   "source": [
    "## 顺序查找"
   ]
  },
  {
   "cell_type": "code",
   "execution_count": null,
   "id": "891aa8bb",
   "metadata": {},
   "outputs": [],
   "source": [
    "def 顺序查找(alist, item):\n",
    "    pointer = 0\n",
    "    found = False\n",
    "    while pointer < len(alist) and not found:\n",
    "        if alist[pointer] == item:\n",
    "            found = True\n",
    "        else:\n",
    "            pointer += 1\n",
    "    if found:\n",
    "        return pointer, found\n",
    "    else:\n",
    "        return found\n",
    "\n",
    "def 有序顺序查找(alist, item):\n",
    "    pointer = 0\n",
    "    found = False\n",
    "    stop = False\n",
    "\n",
    "    while pointer < len(alist) and not found and not stop:\n",
    "        if alist[pointer] == item:\n",
    "            found = True\n",
    "        \n",
    "        if alist[pointer] > item:\n",
    "            stop = True\n",
    "\n",
    "        if alist[pointer] < item:\n",
    "            pointer += 1\n",
    "    \n",
    "    return found\n",
    "\n",
    "alist = [0,1,2,3,41,56,67,78,89,90,99]"
   ]
  },
  {
   "cell_type": "code",
   "execution_count": null,
   "id": "7c6c6888",
   "metadata": {},
   "outputs": [
    {
     "name": "stdout",
     "output_type": "stream",
     "text": [
      "False\n"
     ]
    }
   ],
   "source": [
    "def dichotomy(alist,item):\n",
    "    \"\"\"\n",
    "    二分查找算法最坏情况左右指针相互重叠\n",
    "    \"\"\"\n",
    "    pointer_left = 0\n",
    "    pointer_right = len(alist) - 1\n",
    "    \n",
    "    found = False\n",
    "    stop = False\n",
    "\n",
    "    while not found and pointer_right >= pointer_left and not stop:\n",
    "        pointer_middle = (pointer_right + pointer_left) // 2\n",
    "        if alist[pointer_middle] == item:\n",
    "            found = True\n",
    "\n",
    "        else:\n",
    "            if pointer_left == pointer_right:\n",
    "                stop = True\n",
    "    \n",
    "            if item < alist[pointer_middle]:\n",
    "                pointer_right = pointer_middle - 1\n",
    "                \n",
    "            \n",
    "            if  item > alist[pointer_middle]:\n",
    "                pointer_left = pointer_middle + 1\n",
    "\n",
    "            \n",
    "\n",
    "\n",
    "\n",
    "    return found\n",
    "\n",
    "print(dichotomy([0,1,2,3,99], 100))"
   ]
  },
  {
   "cell_type": "code",
   "execution_count": 4,
   "id": "a13ed3e8",
   "metadata": {},
   "outputs": [
    {
     "name": "stdout",
     "output_type": "stream",
     "text": [
      "True\n"
     ]
    }
   ],
   "source": [
    "def dichotomy(alist,item):\n",
    "    found = False\n",
    "    while len(alist) >= 1 and not found:\n",
    "        mid = len(alist) // 2\n",
    "        if item == alist[mid]:\n",
    "            found = True\n",
    "        else:\n",
    "            if item > alist[mid]:\n",
    "                alist = alist[mid+1:]\n",
    "            else:\n",
    "                alist = alist[:mid]\n",
    "    return found\n",
    "print(dichotomy([0,1,2,3,99], 0))"
   ]
  },
  {
   "cell_type": "code",
   "execution_count": 8,
   "id": "167ccfb6",
   "metadata": {},
   "outputs": [
    {
     "name": "stdout",
     "output_type": "stream",
     "text": [
      "True\n"
     ]
    }
   ],
   "source": [
    "def dichotomy_recur(alist,item):\n",
    "    if len(alist) == 0:\n",
    "        return False\n",
    "    else:\n",
    "        mid = len(alist) // 2\n",
    "        if item  == alist[mid]:\n",
    "            return True\n",
    "        else:\n",
    "            if item > alist[mid]:\n",
    "                return dichotomy_recur(alist[mid+1:],item)\n",
    "            else:\n",
    "                return dichotomy_recur(alist[:mid],item)\n",
    "            \n",
    "print(dichotomy_recur([0,1,2,3,99], 2))           "
   ]
  },
  {
   "cell_type": "code",
   "execution_count": null,
   "id": "2bcfee46",
   "metadata": {},
   "outputs": [
    {
     "name": "stdout",
     "output_type": "stream",
     "text": [
      "False\n"
     ]
    }
   ],
   "source": [
    "def dichotomy_recur(alist,item):\n",
    "    \"\"\"\n",
    "    因为python索引左闭右开的特性，如果遇到[0,1] 求0是否在列表的时候，会先对比middle=1，然后发现[1] > 0，会执行 alist[:1-1] \n",
    "    即 alist[:0] 会跳过最后一个值，所以在item < middle的时候，传入的新索引不能 -1 \n",
    "    但是在item > middle的时候可以，因为只剩两个元素时，默认是最大的元素被拿来比较，既然最大的元素都还比item小，那就不可能存在了。\n",
    "    比如 [0,1] 求2, alist[1] < 2 → alist[1+1:] →alist[2:] \n",
    "    这个根据python list的特性，当这种方式的索引超过list本身的长度时，不会报错，会返回一个空list\n",
    "    \"\"\"\n",
    "    if len(alist) == 0:\n",
    "        return False\n",
    "    \n",
    "    else:\n",
    "        middle_pointer = len(alist) // 2\n",
    "        if alist[middle_pointer] == item:\n",
    "            return True\n",
    "        else:\n",
    "            if alist[middle_pointer] < item:\n",
    "                return dichotomy_recur(alist[middle_pointer+1:],item)\n",
    "            else:\n",
    "                return dichotomy_recur(alist[:middle_pointer],item) \n",
    "            \n",
    "print(dichotomy_recur([0,1,2,3,54,55,64,99,101], 0))"
   ]
  },
  {
   "cell_type": "markdown",
   "id": "fe3540fe",
   "metadata": {},
   "source": [
    "## Bubble sort"
   ]
  },
  {
   "cell_type": "code",
   "execution_count": null,
   "id": "0f9a4f3c",
   "metadata": {},
   "outputs": [],
   "source": [
    "def Bubble_sort(alist):\n",
    "    for passNum in range(len(alist)-1,0,-1):\n",
    "        for n in range(passNum):\n",
    "            if alist[n] > alist[n+1]:\n",
    "                alist[n],alist[n+1] = alist[n+1],alist[n]\n",
    "\n",
    "def short_bubble_sort(alist):\n",
    "    \"\"\"\n",
    "    If in a pass, no exchange be executed, this means the list is already sorted\n",
    "    \"\"\"\n",
    "    exchange = True # init exchange\n",
    "    passNum = len(alist)-1\n",
    "    while passNum > 0 and exchange:\n",
    "        exchange = False # exchage has not yet taken place\n",
    "        for n in range(passNum):\n",
    "            if alist[n] > alist[n+1]:\n",
    "                exchange = True # if exchange takes place\n",
    "                alist[n],alist[n+1] = alist[n+1],alist[n]\n",
    "        passNum -= 1"
   ]
  },
  {
   "cell_type": "code",
   "execution_count": null,
   "id": "daca315e",
   "metadata": {},
   "outputs": [],
   "source": [
    "def selection_sort(alist):\n",
    "    \n",
    "    for passNum in range(len(alist)-1,0,-1):\n",
    "        largest = 0\n",
    "        for n in range(1,passNum):\n",
    "            if alist[n] > alist[largest]:\n",
    "                largest = n\n",
    "        alist[n],alist[largest] = alist[largest],alist[n]"
   ]
  },
  {
   "cell_type": "markdown",
   "id": "a53c5022",
   "metadata": {},
   "source": [
    "## Merge sort"
   ]
  },
  {
   "cell_type": "code",
   "execution_count": 33,
   "id": "9cec4058",
   "metadata": {},
   "outputs": [
    {
     "name": "stdout",
     "output_type": "stream",
     "text": [
      "[1, 1, 2, 3, 4, 4, 5, 7, 7]\n"
     ]
    }
   ],
   "source": [
    "def MergeSort(alist):\n",
    "    if len(alist) > 1:\n",
    "        mid = len(alist) // 2\n",
    "        left = alist[:mid]\n",
    "        right = alist[mid:]\n",
    "        MergeSort(left)\n",
    "        MergeSort(right)\n",
    "\n",
    "        l=r=o=0\n",
    "        while l < len(left) and r < len(right):\n",
    "            if left[l] < right[r]:\n",
    "                alist[o] = left[l]\n",
    "                l +=1\n",
    "            else:\n",
    "                alist[o] = right[r]\n",
    "                r += 1\n",
    "            o += 1\n",
    "\n",
    "        while l < len(left):\n",
    "            alist[o] = left[l]\n",
    "            l += 1\n",
    "            o +=1\n",
    "\n",
    "        while r < len(right): \n",
    "            alist[o] = right[r]\n",
    "            r += 1\n",
    "            o += 1\n",
    "\n",
    "s = [1,3,4,1,4,2,7,5,7]\n",
    "MergeSort(s)\n",
    "print(s)"
   ]
  },
  {
   "cell_type": "code",
   "execution_count": 34,
   "id": "05d8544d",
   "metadata": {},
   "outputs": [
    {
     "name": "stdout",
     "output_type": "stream",
     "text": [
      "[1, 1, 2, 3, 4, 4, 5, 7, 7]\n"
     ]
    }
   ],
   "source": [
    "def merge(alist):\n",
    "    if len(alist) <= 1:\n",
    "        return alist\n",
    "    \n",
    "    mid = len(alist) // 2\n",
    "    left = merge(alist[:mid])\n",
    "    right = merge(alist[mid:])\n",
    "\n",
    "    merged = []\n",
    "    while left and right:\n",
    "        if left[0] < right[0]:\n",
    "            merged.append(left.pop(0))\n",
    "        else:\n",
    "            merged.append(right.pop(0))\n",
    "    \n",
    "    merged.extend(right if right else left)\n",
    "\n",
    "    return merged\n",
    "print(merge(s))"
   ]
  },
  {
   "cell_type": "code",
   "execution_count": 32,
   "id": "dd8d51ca",
   "metadata": {},
   "outputs": [
    {
     "name": "stdout",
     "output_type": "stream",
     "text": [
      "6.978634630002489 7.935956200999499\n"
     ]
    }
   ],
   "source": [
    "import timeit\n",
    "\n",
    "def t():\n",
    "    a = [1,23,42,5235][0]\n",
    "\n",
    "def s():\n",
    "    b = [1,23,42,5235][-1]\n",
    "\n",
    "time1 = timeit.Timer(\"t()\",\"from __main__ import t\")\n",
    "time2 = timeit.Timer(\"s()\",\"from __main__ import s\")\n",
    "print(time1.timeit(number=100000000),time2.timeit(number=100000000))"
   ]
  },
  {
   "cell_type": "code",
   "execution_count": null,
   "id": "b5b67e30",
   "metadata": {},
   "outputs": [
    {
     "name": "stdout",
     "output_type": "stream",
     "text": [
      "1010\n"
     ]
    }
   ],
   "source": [
    "def int2str(n,base):\n",
    "    if n // base <= 0:\n",
    "        return str(n)\n",
    "    \n",
    "    return int2str(n//base, base) + str(n % base)\n",
    "    \n",
    "print(int2str(10,2))"
   ]
  }
 ],
 "metadata": {
  "kernelspec": {
   "display_name": "base",
   "language": "python",
   "name": "python3"
  },
  "language_info": {
   "codemirror_mode": {
    "name": "ipython",
    "version": 3
   },
   "file_extension": ".py",
   "mimetype": "text/x-python",
   "name": "python",
   "nbconvert_exporter": "python",
   "pygments_lexer": "ipython3",
   "version": "3.12.7"
  }
 },
 "nbformat": 4,
 "nbformat_minor": 5
}
