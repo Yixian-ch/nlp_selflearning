{
  "nbformat": 4,
  "nbformat_minor": 0,
  "metadata": {
    "colab": {
      "provenance": [],
      "include_colab_link": true
    },
    "kernelspec": {
      "name": "python3",
      "display_name": "Python 3"
    },
    "language_info": {
      "name": "python"
    },
    "widgets": {
      "application/vnd.jupyter.widget-state+json": {
        "3fe7c575a3414fdca93af0fdf82d3b98": {
          "model_module": "@jupyter-widgets/controls",
          "model_name": "HBoxModel",
          "model_module_version": "1.5.0",
          "state": {
            "_dom_classes": [],
            "_model_module": "@jupyter-widgets/controls",
            "_model_module_version": "1.5.0",
            "_model_name": "HBoxModel",
            "_view_count": null,
            "_view_module": "@jupyter-widgets/controls",
            "_view_module_version": "1.5.0",
            "_view_name": "HBoxView",
            "box_style": "",
            "children": [
              "IPY_MODEL_7776f6f837df4b9ca2f795e49511e1b6",
              "IPY_MODEL_9fa35323cd7946118f5d0cee97893687",
              "IPY_MODEL_c50473ca323a47b2b435ee4f4a2a4ce2"
            ],
            "layout": "IPY_MODEL_97f386f4790647fe9b80758ec1717ac3"
          }
        },
        "7776f6f837df4b9ca2f795e49511e1b6": {
          "model_module": "@jupyter-widgets/controls",
          "model_name": "HTMLModel",
          "model_module_version": "1.5.0",
          "state": {
            "_dom_classes": [],
            "_model_module": "@jupyter-widgets/controls",
            "_model_module_version": "1.5.0",
            "_model_name": "HTMLModel",
            "_view_count": null,
            "_view_module": "@jupyter-widgets/controls",
            "_view_module_version": "1.5.0",
            "_view_name": "HTMLView",
            "description": "",
            "description_tooltip": null,
            "layout": "IPY_MODEL_7dd2abf030f944ecb37c8c7cdb047360",
            "placeholder": "​",
            "style": "IPY_MODEL_49574764518d497cafb636d656c0bd62",
            "value": "README.md: 100%"
          }
        },
        "9fa35323cd7946118f5d0cee97893687": {
          "model_module": "@jupyter-widgets/controls",
          "model_name": "FloatProgressModel",
          "model_module_version": "1.5.0",
          "state": {
            "_dom_classes": [],
            "_model_module": "@jupyter-widgets/controls",
            "_model_module_version": "1.5.0",
            "_model_name": "FloatProgressModel",
            "_view_count": null,
            "_view_module": "@jupyter-widgets/controls",
            "_view_module_version": "1.5.0",
            "_view_name": "ProgressView",
            "bar_style": "success",
            "description": "",
            "description_tooltip": null,
            "layout": "IPY_MODEL_6f68b29dc66e4600af9bc645521cb854",
            "max": 6755,
            "min": 0,
            "orientation": "horizontal",
            "style": "IPY_MODEL_ea3011830b474341bba612908b53aee4",
            "value": 6755
          }
        },
        "c50473ca323a47b2b435ee4f4a2a4ce2": {
          "model_module": "@jupyter-widgets/controls",
          "model_name": "HTMLModel",
          "model_module_version": "1.5.0",
          "state": {
            "_dom_classes": [],
            "_model_module": "@jupyter-widgets/controls",
            "_model_module_version": "1.5.0",
            "_model_name": "HTMLModel",
            "_view_count": null,
            "_view_module": "@jupyter-widgets/controls",
            "_view_module_version": "1.5.0",
            "_view_name": "HTMLView",
            "description": "",
            "description_tooltip": null,
            "layout": "IPY_MODEL_c84b71102f3f40158929990a7d03f5a5",
            "placeholder": "​",
            "style": "IPY_MODEL_a31d65a8441e4d0387b84a3f33fc3ff3",
            "value": " 6.75k/6.75k [00:00&lt;00:00, 228kB/s]"
          }
        },
        "97f386f4790647fe9b80758ec1717ac3": {
          "model_module": "@jupyter-widgets/base",
          "model_name": "LayoutModel",
          "model_module_version": "1.2.0",
          "state": {
            "_model_module": "@jupyter-widgets/base",
            "_model_module_version": "1.2.0",
            "_model_name": "LayoutModel",
            "_view_count": null,
            "_view_module": "@jupyter-widgets/base",
            "_view_module_version": "1.2.0",
            "_view_name": "LayoutView",
            "align_content": null,
            "align_items": null,
            "align_self": null,
            "border": null,
            "bottom": null,
            "display": null,
            "flex": null,
            "flex_flow": null,
            "grid_area": null,
            "grid_auto_columns": null,
            "grid_auto_flow": null,
            "grid_auto_rows": null,
            "grid_column": null,
            "grid_gap": null,
            "grid_row": null,
            "grid_template_areas": null,
            "grid_template_columns": null,
            "grid_template_rows": null,
            "height": null,
            "justify_content": null,
            "justify_items": null,
            "left": null,
            "margin": null,
            "max_height": null,
            "max_width": null,
            "min_height": null,
            "min_width": null,
            "object_fit": null,
            "object_position": null,
            "order": null,
            "overflow": null,
            "overflow_x": null,
            "overflow_y": null,
            "padding": null,
            "right": null,
            "top": null,
            "visibility": null,
            "width": null
          }
        },
        "7dd2abf030f944ecb37c8c7cdb047360": {
          "model_module": "@jupyter-widgets/base",
          "model_name": "LayoutModel",
          "model_module_version": "1.2.0",
          "state": {
            "_model_module": "@jupyter-widgets/base",
            "_model_module_version": "1.2.0",
            "_model_name": "LayoutModel",
            "_view_count": null,
            "_view_module": "@jupyter-widgets/base",
            "_view_module_version": "1.2.0",
            "_view_name": "LayoutView",
            "align_content": null,
            "align_items": null,
            "align_self": null,
            "border": null,
            "bottom": null,
            "display": null,
            "flex": null,
            "flex_flow": null,
            "grid_area": null,
            "grid_auto_columns": null,
            "grid_auto_flow": null,
            "grid_auto_rows": null,
            "grid_column": null,
            "grid_gap": null,
            "grid_row": null,
            "grid_template_areas": null,
            "grid_template_columns": null,
            "grid_template_rows": null,
            "height": null,
            "justify_content": null,
            "justify_items": null,
            "left": null,
            "margin": null,
            "max_height": null,
            "max_width": null,
            "min_height": null,
            "min_width": null,
            "object_fit": null,
            "object_position": null,
            "order": null,
            "overflow": null,
            "overflow_x": null,
            "overflow_y": null,
            "padding": null,
            "right": null,
            "top": null,
            "visibility": null,
            "width": null
          }
        },
        "49574764518d497cafb636d656c0bd62": {
          "model_module": "@jupyter-widgets/controls",
          "model_name": "DescriptionStyleModel",
          "model_module_version": "1.5.0",
          "state": {
            "_model_module": "@jupyter-widgets/controls",
            "_model_module_version": "1.5.0",
            "_model_name": "DescriptionStyleModel",
            "_view_count": null,
            "_view_module": "@jupyter-widgets/base",
            "_view_module_version": "1.2.0",
            "_view_name": "StyleView",
            "description_width": ""
          }
        },
        "6f68b29dc66e4600af9bc645521cb854": {
          "model_module": "@jupyter-widgets/base",
          "model_name": "LayoutModel",
          "model_module_version": "1.2.0",
          "state": {
            "_model_module": "@jupyter-widgets/base",
            "_model_module_version": "1.2.0",
            "_model_name": "LayoutModel",
            "_view_count": null,
            "_view_module": "@jupyter-widgets/base",
            "_view_module_version": "1.2.0",
            "_view_name": "LayoutView",
            "align_content": null,
            "align_items": null,
            "align_self": null,
            "border": null,
            "bottom": null,
            "display": null,
            "flex": null,
            "flex_flow": null,
            "grid_area": null,
            "grid_auto_columns": null,
            "grid_auto_flow": null,
            "grid_auto_rows": null,
            "grid_column": null,
            "grid_gap": null,
            "grid_row": null,
            "grid_template_areas": null,
            "grid_template_columns": null,
            "grid_template_rows": null,
            "height": null,
            "justify_content": null,
            "justify_items": null,
            "left": null,
            "margin": null,
            "max_height": null,
            "max_width": null,
            "min_height": null,
            "min_width": null,
            "object_fit": null,
            "object_position": null,
            "order": null,
            "overflow": null,
            "overflow_x": null,
            "overflow_y": null,
            "padding": null,
            "right": null,
            "top": null,
            "visibility": null,
            "width": null
          }
        },
        "ea3011830b474341bba612908b53aee4": {
          "model_module": "@jupyter-widgets/controls",
          "model_name": "ProgressStyleModel",
          "model_module_version": "1.5.0",
          "state": {
            "_model_module": "@jupyter-widgets/controls",
            "_model_module_version": "1.5.0",
            "_model_name": "ProgressStyleModel",
            "_view_count": null,
            "_view_module": "@jupyter-widgets/base",
            "_view_module_version": "1.2.0",
            "_view_name": "StyleView",
            "bar_color": null,
            "description_width": ""
          }
        },
        "c84b71102f3f40158929990a7d03f5a5": {
          "model_module": "@jupyter-widgets/base",
          "model_name": "LayoutModel",
          "model_module_version": "1.2.0",
          "state": {
            "_model_module": "@jupyter-widgets/base",
            "_model_module_version": "1.2.0",
            "_model_name": "LayoutModel",
            "_view_count": null,
            "_view_module": "@jupyter-widgets/base",
            "_view_module_version": "1.2.0",
            "_view_name": "LayoutView",
            "align_content": null,
            "align_items": null,
            "align_self": null,
            "border": null,
            "bottom": null,
            "display": null,
            "flex": null,
            "flex_flow": null,
            "grid_area": null,
            "grid_auto_columns": null,
            "grid_auto_flow": null,
            "grid_auto_rows": null,
            "grid_column": null,
            "grid_gap": null,
            "grid_row": null,
            "grid_template_areas": null,
            "grid_template_columns": null,
            "grid_template_rows": null,
            "height": null,
            "justify_content": null,
            "justify_items": null,
            "left": null,
            "margin": null,
            "max_height": null,
            "max_width": null,
            "min_height": null,
            "min_width": null,
            "object_fit": null,
            "object_position": null,
            "order": null,
            "overflow": null,
            "overflow_x": null,
            "overflow_y": null,
            "padding": null,
            "right": null,
            "top": null,
            "visibility": null,
            "width": null
          }
        },
        "a31d65a8441e4d0387b84a3f33fc3ff3": {
          "model_module": "@jupyter-widgets/controls",
          "model_name": "DescriptionStyleModel",
          "model_module_version": "1.5.0",
          "state": {
            "_model_module": "@jupyter-widgets/controls",
            "_model_module_version": "1.5.0",
            "_model_name": "DescriptionStyleModel",
            "_view_count": null,
            "_view_module": "@jupyter-widgets/base",
            "_view_module_version": "1.2.0",
            "_view_name": "StyleView",
            "description_width": ""
          }
        },
        "22848c2dc94e4e8094558c402a6f7d7a": {
          "model_module": "@jupyter-widgets/controls",
          "model_name": "HBoxModel",
          "model_module_version": "1.5.0",
          "state": {
            "_dom_classes": [],
            "_model_module": "@jupyter-widgets/controls",
            "_model_module_version": "1.5.0",
            "_model_name": "HBoxModel",
            "_view_count": null,
            "_view_module": "@jupyter-widgets/controls",
            "_view_module_version": "1.5.0",
            "_view_name": "HBoxView",
            "box_style": "",
            "children": [
              "IPY_MODEL_b60015b94b01479e976d1bdc8f537b00",
              "IPY_MODEL_60a2be312155422fad6249abea324ede",
              "IPY_MODEL_0e6c0acb6ba746d89a7d369df61911b0"
            ],
            "layout": "IPY_MODEL_eb09380a1df04024894daeab6237b814"
          }
        },
        "b60015b94b01479e976d1bdc8f537b00": {
          "model_module": "@jupyter-widgets/controls",
          "model_name": "HTMLModel",
          "model_module_version": "1.5.0",
          "state": {
            "_dom_classes": [],
            "_model_module": "@jupyter-widgets/controls",
            "_model_module_version": "1.5.0",
            "_model_name": "HTMLModel",
            "_view_count": null,
            "_view_module": "@jupyter-widgets/controls",
            "_view_module_version": "1.5.0",
            "_view_name": "HTMLView",
            "description": "",
            "description_tooltip": null,
            "layout": "IPY_MODEL_c6457efbf3ef4f9a9092a54a87ec3c1e",
            "placeholder": "​",
            "style": "IPY_MODEL_1012aba775324c4da4bf962bee7d9ccf",
            "value": "arxiv-abstracts.jsonl.gz: 100%"
          }
        },
        "60a2be312155422fad6249abea324ede": {
          "model_module": "@jupyter-widgets/controls",
          "model_name": "FloatProgressModel",
          "model_module_version": "1.5.0",
          "state": {
            "_dom_classes": [],
            "_model_module": "@jupyter-widgets/controls",
            "_model_module_version": "1.5.0",
            "_model_name": "FloatProgressModel",
            "_view_count": null,
            "_view_module": "@jupyter-widgets/controls",
            "_view_module_version": "1.5.0",
            "_view_name": "ProgressView",
            "bar_style": "success",
            "description": "",
            "description_tooltip": null,
            "layout": "IPY_MODEL_1c2e71dda0324645ab202c020cf36c71",
            "max": 939914256,
            "min": 0,
            "orientation": "horizontal",
            "style": "IPY_MODEL_af2da693763143b399795d5c16c02c1c",
            "value": 939914256
          }
        },
        "0e6c0acb6ba746d89a7d369df61911b0": {
          "model_module": "@jupyter-widgets/controls",
          "model_name": "HTMLModel",
          "model_module_version": "1.5.0",
          "state": {
            "_dom_classes": [],
            "_model_module": "@jupyter-widgets/controls",
            "_model_module_version": "1.5.0",
            "_model_name": "HTMLModel",
            "_view_count": null,
            "_view_module": "@jupyter-widgets/controls",
            "_view_module_version": "1.5.0",
            "_view_name": "HTMLView",
            "description": "",
            "description_tooltip": null,
            "layout": "IPY_MODEL_1f0b293d8dd24c40be5f4e3f4a15f398",
            "placeholder": "​",
            "style": "IPY_MODEL_1e2d5a176c11455b9f1f65e82816a81e",
            "value": " 940M/940M [00:09&lt;00:00, 156MB/s]"
          }
        },
        "eb09380a1df04024894daeab6237b814": {
          "model_module": "@jupyter-widgets/base",
          "model_name": "LayoutModel",
          "model_module_version": "1.2.0",
          "state": {
            "_model_module": "@jupyter-widgets/base",
            "_model_module_version": "1.2.0",
            "_model_name": "LayoutModel",
            "_view_count": null,
            "_view_module": "@jupyter-widgets/base",
            "_view_module_version": "1.2.0",
            "_view_name": "LayoutView",
            "align_content": null,
            "align_items": null,
            "align_self": null,
            "border": null,
            "bottom": null,
            "display": null,
            "flex": null,
            "flex_flow": null,
            "grid_area": null,
            "grid_auto_columns": null,
            "grid_auto_flow": null,
            "grid_auto_rows": null,
            "grid_column": null,
            "grid_gap": null,
            "grid_row": null,
            "grid_template_areas": null,
            "grid_template_columns": null,
            "grid_template_rows": null,
            "height": null,
            "justify_content": null,
            "justify_items": null,
            "left": null,
            "margin": null,
            "max_height": null,
            "max_width": null,
            "min_height": null,
            "min_width": null,
            "object_fit": null,
            "object_position": null,
            "order": null,
            "overflow": null,
            "overflow_x": null,
            "overflow_y": null,
            "padding": null,
            "right": null,
            "top": null,
            "visibility": null,
            "width": null
          }
        },
        "c6457efbf3ef4f9a9092a54a87ec3c1e": {
          "model_module": "@jupyter-widgets/base",
          "model_name": "LayoutModel",
          "model_module_version": "1.2.0",
          "state": {
            "_model_module": "@jupyter-widgets/base",
            "_model_module_version": "1.2.0",
            "_model_name": "LayoutModel",
            "_view_count": null,
            "_view_module": "@jupyter-widgets/base",
            "_view_module_version": "1.2.0",
            "_view_name": "LayoutView",
            "align_content": null,
            "align_items": null,
            "align_self": null,
            "border": null,
            "bottom": null,
            "display": null,
            "flex": null,
            "flex_flow": null,
            "grid_area": null,
            "grid_auto_columns": null,
            "grid_auto_flow": null,
            "grid_auto_rows": null,
            "grid_column": null,
            "grid_gap": null,
            "grid_row": null,
            "grid_template_areas": null,
            "grid_template_columns": null,
            "grid_template_rows": null,
            "height": null,
            "justify_content": null,
            "justify_items": null,
            "left": null,
            "margin": null,
            "max_height": null,
            "max_width": null,
            "min_height": null,
            "min_width": null,
            "object_fit": null,
            "object_position": null,
            "order": null,
            "overflow": null,
            "overflow_x": null,
            "overflow_y": null,
            "padding": null,
            "right": null,
            "top": null,
            "visibility": null,
            "width": null
          }
        },
        "1012aba775324c4da4bf962bee7d9ccf": {
          "model_module": "@jupyter-widgets/controls",
          "model_name": "DescriptionStyleModel",
          "model_module_version": "1.5.0",
          "state": {
            "_model_module": "@jupyter-widgets/controls",
            "_model_module_version": "1.5.0",
            "_model_name": "DescriptionStyleModel",
            "_view_count": null,
            "_view_module": "@jupyter-widgets/base",
            "_view_module_version": "1.2.0",
            "_view_name": "StyleView",
            "description_width": ""
          }
        },
        "1c2e71dda0324645ab202c020cf36c71": {
          "model_module": "@jupyter-widgets/base",
          "model_name": "LayoutModel",
          "model_module_version": "1.2.0",
          "state": {
            "_model_module": "@jupyter-widgets/base",
            "_model_module_version": "1.2.0",
            "_model_name": "LayoutModel",
            "_view_count": null,
            "_view_module": "@jupyter-widgets/base",
            "_view_module_version": "1.2.0",
            "_view_name": "LayoutView",
            "align_content": null,
            "align_items": null,
            "align_self": null,
            "border": null,
            "bottom": null,
            "display": null,
            "flex": null,
            "flex_flow": null,
            "grid_area": null,
            "grid_auto_columns": null,
            "grid_auto_flow": null,
            "grid_auto_rows": null,
            "grid_column": null,
            "grid_gap": null,
            "grid_row": null,
            "grid_template_areas": null,
            "grid_template_columns": null,
            "grid_template_rows": null,
            "height": null,
            "justify_content": null,
            "justify_items": null,
            "left": null,
            "margin": null,
            "max_height": null,
            "max_width": null,
            "min_height": null,
            "min_width": null,
            "object_fit": null,
            "object_position": null,
            "order": null,
            "overflow": null,
            "overflow_x": null,
            "overflow_y": null,
            "padding": null,
            "right": null,
            "top": null,
            "visibility": null,
            "width": null
          }
        },
        "af2da693763143b399795d5c16c02c1c": {
          "model_module": "@jupyter-widgets/controls",
          "model_name": "ProgressStyleModel",
          "model_module_version": "1.5.0",
          "state": {
            "_model_module": "@jupyter-widgets/controls",
            "_model_module_version": "1.5.0",
            "_model_name": "ProgressStyleModel",
            "_view_count": null,
            "_view_module": "@jupyter-widgets/base",
            "_view_module_version": "1.2.0",
            "_view_name": "StyleView",
            "bar_color": null,
            "description_width": ""
          }
        },
        "1f0b293d8dd24c40be5f4e3f4a15f398": {
          "model_module": "@jupyter-widgets/base",
          "model_name": "LayoutModel",
          "model_module_version": "1.2.0",
          "state": {
            "_model_module": "@jupyter-widgets/base",
            "_model_module_version": "1.2.0",
            "_model_name": "LayoutModel",
            "_view_count": null,
            "_view_module": "@jupyter-widgets/base",
            "_view_module_version": "1.2.0",
            "_view_name": "LayoutView",
            "align_content": null,
            "align_items": null,
            "align_self": null,
            "border": null,
            "bottom": null,
            "display": null,
            "flex": null,
            "flex_flow": null,
            "grid_area": null,
            "grid_auto_columns": null,
            "grid_auto_flow": null,
            "grid_auto_rows": null,
            "grid_column": null,
            "grid_gap": null,
            "grid_row": null,
            "grid_template_areas": null,
            "grid_template_columns": null,
            "grid_template_rows": null,
            "height": null,
            "justify_content": null,
            "justify_items": null,
            "left": null,
            "margin": null,
            "max_height": null,
            "max_width": null,
            "min_height": null,
            "min_width": null,
            "object_fit": null,
            "object_position": null,
            "order": null,
            "overflow": null,
            "overflow_x": null,
            "overflow_y": null,
            "padding": null,
            "right": null,
            "top": null,
            "visibility": null,
            "width": null
          }
        },
        "1e2d5a176c11455b9f1f65e82816a81e": {
          "model_module": "@jupyter-widgets/controls",
          "model_name": "DescriptionStyleModel",
          "model_module_version": "1.5.0",
          "state": {
            "_model_module": "@jupyter-widgets/controls",
            "_model_module_version": "1.5.0",
            "_model_name": "DescriptionStyleModel",
            "_view_count": null,
            "_view_module": "@jupyter-widgets/base",
            "_view_module_version": "1.2.0",
            "_view_name": "StyleView",
            "description_width": ""
          }
        },
        "9ed890ccc49148ea99c6d4b77f65e825": {
          "model_module": "@jupyter-widgets/controls",
          "model_name": "HBoxModel",
          "model_module_version": "1.5.0",
          "state": {
            "_dom_classes": [],
            "_model_module": "@jupyter-widgets/controls",
            "_model_module_version": "1.5.0",
            "_model_name": "HBoxModel",
            "_view_count": null,
            "_view_module": "@jupyter-widgets/controls",
            "_view_module_version": "1.5.0",
            "_view_name": "HBoxView",
            "box_style": "",
            "children": [
              "IPY_MODEL_04d16ae17b5c42518c2f1bde1db239b4",
              "IPY_MODEL_90702f3b84eb46bba31556514ef4f69a",
              "IPY_MODEL_c71cd9437beb45188208b6e2a690c71a"
            ],
            "layout": "IPY_MODEL_30c9d506cf1644fb896648dcd13a9019"
          }
        },
        "04d16ae17b5c42518c2f1bde1db239b4": {
          "model_module": "@jupyter-widgets/controls",
          "model_name": "HTMLModel",
          "model_module_version": "1.5.0",
          "state": {
            "_dom_classes": [],
            "_model_module": "@jupyter-widgets/controls",
            "_model_module_version": "1.5.0",
            "_model_name": "HTMLModel",
            "_view_count": null,
            "_view_module": "@jupyter-widgets/controls",
            "_view_module_version": "1.5.0",
            "_view_name": "HTMLView",
            "description": "",
            "description_tooltip": null,
            "layout": "IPY_MODEL_cada517395364f30910721b28c7b5b5b",
            "placeholder": "​",
            "style": "IPY_MODEL_a37e6b56877947f9ab942b80dc4af1a1",
            "value": "Generating train split: 100%"
          }
        },
        "90702f3b84eb46bba31556514ef4f69a": {
          "model_module": "@jupyter-widgets/controls",
          "model_name": "FloatProgressModel",
          "model_module_version": "1.5.0",
          "state": {
            "_dom_classes": [],
            "_model_module": "@jupyter-widgets/controls",
            "_model_module_version": "1.5.0",
            "_model_name": "FloatProgressModel",
            "_view_count": null,
            "_view_module": "@jupyter-widgets/controls",
            "_view_module_version": "1.5.0",
            "_view_name": "ProgressView",
            "bar_style": "success",
            "description": "",
            "description_tooltip": null,
            "layout": "IPY_MODEL_f8504ddd8cfb42c6a879435b7e9a799e",
            "max": 1999486,
            "min": 0,
            "orientation": "horizontal",
            "style": "IPY_MODEL_0a5120da07a846779848503240c8b7b5",
            "value": 1999486
          }
        },
        "c71cd9437beb45188208b6e2a690c71a": {
          "model_module": "@jupyter-widgets/controls",
          "model_name": "HTMLModel",
          "model_module_version": "1.5.0",
          "state": {
            "_dom_classes": [],
            "_model_module": "@jupyter-widgets/controls",
            "_model_module_version": "1.5.0",
            "_model_name": "HTMLModel",
            "_view_count": null,
            "_view_module": "@jupyter-widgets/controls",
            "_view_module_version": "1.5.0",
            "_view_name": "HTMLView",
            "description": "",
            "description_tooltip": null,
            "layout": "IPY_MODEL_16ac3343137d441aa598a54775155a35",
            "placeholder": "​",
            "style": "IPY_MODEL_9b91cb9ac2434b208f4d0e68a2a81e5f",
            "value": " 1999486/1999486 [00:49&lt;00:00, 60721.02 examples/s]"
          }
        },
        "30c9d506cf1644fb896648dcd13a9019": {
          "model_module": "@jupyter-widgets/base",
          "model_name": "LayoutModel",
          "model_module_version": "1.2.0",
          "state": {
            "_model_module": "@jupyter-widgets/base",
            "_model_module_version": "1.2.0",
            "_model_name": "LayoutModel",
            "_view_count": null,
            "_view_module": "@jupyter-widgets/base",
            "_view_module_version": "1.2.0",
            "_view_name": "LayoutView",
            "align_content": null,
            "align_items": null,
            "align_self": null,
            "border": null,
            "bottom": null,
            "display": null,
            "flex": null,
            "flex_flow": null,
            "grid_area": null,
            "grid_auto_columns": null,
            "grid_auto_flow": null,
            "grid_auto_rows": null,
            "grid_column": null,
            "grid_gap": null,
            "grid_row": null,
            "grid_template_areas": null,
            "grid_template_columns": null,
            "grid_template_rows": null,
            "height": null,
            "justify_content": null,
            "justify_items": null,
            "left": null,
            "margin": null,
            "max_height": null,
            "max_width": null,
            "min_height": null,
            "min_width": null,
            "object_fit": null,
            "object_position": null,
            "order": null,
            "overflow": null,
            "overflow_x": null,
            "overflow_y": null,
            "padding": null,
            "right": null,
            "top": null,
            "visibility": null,
            "width": null
          }
        },
        "cada517395364f30910721b28c7b5b5b": {
          "model_module": "@jupyter-widgets/base",
          "model_name": "LayoutModel",
          "model_module_version": "1.2.0",
          "state": {
            "_model_module": "@jupyter-widgets/base",
            "_model_module_version": "1.2.0",
            "_model_name": "LayoutModel",
            "_view_count": null,
            "_view_module": "@jupyter-widgets/base",
            "_view_module_version": "1.2.0",
            "_view_name": "LayoutView",
            "align_content": null,
            "align_items": null,
            "align_self": null,
            "border": null,
            "bottom": null,
            "display": null,
            "flex": null,
            "flex_flow": null,
            "grid_area": null,
            "grid_auto_columns": null,
            "grid_auto_flow": null,
            "grid_auto_rows": null,
            "grid_column": null,
            "grid_gap": null,
            "grid_row": null,
            "grid_template_areas": null,
            "grid_template_columns": null,
            "grid_template_rows": null,
            "height": null,
            "justify_content": null,
            "justify_items": null,
            "left": null,
            "margin": null,
            "max_height": null,
            "max_width": null,
            "min_height": null,
            "min_width": null,
            "object_fit": null,
            "object_position": null,
            "order": null,
            "overflow": null,
            "overflow_x": null,
            "overflow_y": null,
            "padding": null,
            "right": null,
            "top": null,
            "visibility": null,
            "width": null
          }
        },
        "a37e6b56877947f9ab942b80dc4af1a1": {
          "model_module": "@jupyter-widgets/controls",
          "model_name": "DescriptionStyleModel",
          "model_module_version": "1.5.0",
          "state": {
            "_model_module": "@jupyter-widgets/controls",
            "_model_module_version": "1.5.0",
            "_model_name": "DescriptionStyleModel",
            "_view_count": null,
            "_view_module": "@jupyter-widgets/base",
            "_view_module_version": "1.2.0",
            "_view_name": "StyleView",
            "description_width": ""
          }
        },
        "f8504ddd8cfb42c6a879435b7e9a799e": {
          "model_module": "@jupyter-widgets/base",
          "model_name": "LayoutModel",
          "model_module_version": "1.2.0",
          "state": {
            "_model_module": "@jupyter-widgets/base",
            "_model_module_version": "1.2.0",
            "_model_name": "LayoutModel",
            "_view_count": null,
            "_view_module": "@jupyter-widgets/base",
            "_view_module_version": "1.2.0",
            "_view_name": "LayoutView",
            "align_content": null,
            "align_items": null,
            "align_self": null,
            "border": null,
            "bottom": null,
            "display": null,
            "flex": null,
            "flex_flow": null,
            "grid_area": null,
            "grid_auto_columns": null,
            "grid_auto_flow": null,
            "grid_auto_rows": null,
            "grid_column": null,
            "grid_gap": null,
            "grid_row": null,
            "grid_template_areas": null,
            "grid_template_columns": null,
            "grid_template_rows": null,
            "height": null,
            "justify_content": null,
            "justify_items": null,
            "left": null,
            "margin": null,
            "max_height": null,
            "max_width": null,
            "min_height": null,
            "min_width": null,
            "object_fit": null,
            "object_position": null,
            "order": null,
            "overflow": null,
            "overflow_x": null,
            "overflow_y": null,
            "padding": null,
            "right": null,
            "top": null,
            "visibility": null,
            "width": null
          }
        },
        "0a5120da07a846779848503240c8b7b5": {
          "model_module": "@jupyter-widgets/controls",
          "model_name": "ProgressStyleModel",
          "model_module_version": "1.5.0",
          "state": {
            "_model_module": "@jupyter-widgets/controls",
            "_model_module_version": "1.5.0",
            "_model_name": "ProgressStyleModel",
            "_view_count": null,
            "_view_module": "@jupyter-widgets/base",
            "_view_module_version": "1.2.0",
            "_view_name": "StyleView",
            "bar_color": null,
            "description_width": ""
          }
        },
        "16ac3343137d441aa598a54775155a35": {
          "model_module": "@jupyter-widgets/base",
          "model_name": "LayoutModel",
          "model_module_version": "1.2.0",
          "state": {
            "_model_module": "@jupyter-widgets/base",
            "_model_module_version": "1.2.0",
            "_model_name": "LayoutModel",
            "_view_count": null,
            "_view_module": "@jupyter-widgets/base",
            "_view_module_version": "1.2.0",
            "_view_name": "LayoutView",
            "align_content": null,
            "align_items": null,
            "align_self": null,
            "border": null,
            "bottom": null,
            "display": null,
            "flex": null,
            "flex_flow": null,
            "grid_area": null,
            "grid_auto_columns": null,
            "grid_auto_flow": null,
            "grid_auto_rows": null,
            "grid_column": null,
            "grid_gap": null,
            "grid_row": null,
            "grid_template_areas": null,
            "grid_template_columns": null,
            "grid_template_rows": null,
            "height": null,
            "justify_content": null,
            "justify_items": null,
            "left": null,
            "margin": null,
            "max_height": null,
            "max_width": null,
            "min_height": null,
            "min_width": null,
            "object_fit": null,
            "object_position": null,
            "order": null,
            "overflow": null,
            "overflow_x": null,
            "overflow_y": null,
            "padding": null,
            "right": null,
            "top": null,
            "visibility": null,
            "width": null
          }
        },
        "9b91cb9ac2434b208f4d0e68a2a81e5f": {
          "model_module": "@jupyter-widgets/controls",
          "model_name": "DescriptionStyleModel",
          "model_module_version": "1.5.0",
          "state": {
            "_model_module": "@jupyter-widgets/controls",
            "_model_module_version": "1.5.0",
            "_model_name": "DescriptionStyleModel",
            "_view_count": null,
            "_view_module": "@jupyter-widgets/base",
            "_view_module_version": "1.2.0",
            "_view_name": "StyleView",
            "description_width": ""
          }
        }
      }
    }
  },
  "cells": [
    {
      "cell_type": "markdown",
      "metadata": {
        "id": "view-in-github",
        "colab_type": "text"
      },
      "source": [
        "<a href=\"https://colab.research.google.com/github/Yixian-ch/nlp_selflearning/blob/main/word2vec.ipynb\" target=\"_parent\"><img src=\"https://colab.research.google.com/assets/colab-badge.svg\" alt=\"Open In Colab\"/></a>"
      ]
    },
    {
      "cell_type": "markdown",
      "source": [
        "# **Mid-Term Mini-Project: Training and Analyzing Domain-Specific Word Embeddings**\n",
        "\n",
        "## **Project Overview**\n",
        "\n",
        "In this mini-project, you will explore how **Word2Vec embeddings differ across different scientific domains**. You will:\n",
        "\n",
        "- Train separate **Word2Vec models** on scientific papers from different domains.\n",
        "- Use **word similarity and analogy tasks** to compare the representations across models.\n",
        "- Analyze and interpret the domain-specific variations in embeddings.\n",
        "\n",
        "## **Project Objectives**\n",
        "\n",
        "✅ Learn to train Word2Vec embeddings on domain-specific corpora.  \n",
        "✅ Understand how different domains influence word representations.  \n",
        "✅ Perform **word similarity** and **word analogy** evaluations.  \n",
        "✅ Compare embeddings trained on different domains to reveal biases and context variations.\n"
      ],
      "metadata": {
        "id": "9pmNzI4XsklD"
      }
    },
    {
      "cell_type": "markdown",
      "source": [
        "## **Project Tasks**\n",
        "\n",
        "### **1️⃣ Corpus Selection & Preprocessing**\n",
        "\n",
        "Each team/student will:\n",
        "\n",
        "1. **Select at least two scientific domains** (e.g., Computer Science, Biology, Medicine, Physics, etc.).\n",
        "2. Use the **ArXiv Abstracts Dataset** (available on Hugging Face: `gfissore/arxiv-abstracts-2021`).\n",
        "3. Extract **a subset of abstracts** from their selected domains (e.g., 10,000 abstracts per domain).\n",
        "4. Preprocess the text by:\n",
        "   - Lowercasing\n",
        "   - Removing punctuation\n",
        "   - Tokenizing sentences\n",
        "   - Removing stopwords (optional)\n",
        "\n",
        "📌 **Deliverable:** A cleaned text corpus for each selected domain.\n"
      ],
      "metadata": {
        "id": "w_G5WbYpuEdA"
      }
    },
    {
      "cell_type": "code",
      "source": [
        "# !pip install gdown  # Ensure gdown is installed\n",
        "# !pip install datasets\n",
        "!gdown --id 1yB52MYODAORHRvTfHHYweJg3uRlsdjSO -O arxiv_abstracts_sampled100000.csv"
      ],
      "metadata": {
        "colab": {
          "base_uri": "https://localhost:8080/"
        },
        "id": "Nz0_1mF1FL08",
        "outputId": "7e902f5e-f135-48ef-87af-fb5175989dc6"
      },
      "execution_count": null,
      "outputs": [
        {
          "output_type": "stream",
          "name": "stdout",
          "text": [
            "/usr/local/lib/python3.11/dist-packages/gdown/__main__.py:140: FutureWarning: Option `--id` was deprecated in version 4.3.1 and will be removed in 5.0. You don't need to pass it anymore to use a file ID.\n",
            "  warnings.warn(\n",
            "Downloading...\n",
            "From (original): https://drive.google.com/uc?id=1yB52MYODAORHRvTfHHYweJg3uRlsdjSO\n",
            "From (redirected): https://drive.google.com/uc?id=1yB52MYODAORHRvTfHHYweJg3uRlsdjSO&confirm=t&uuid=ccabe0a1-50f6-427d-b3b3-fd4deb651855\n",
            "To: /content/arxiv_abstracts_sampled100000.csv\n",
            "100% 120M/120M [00:01<00:00, 64.0MB/s]\n"
          ]
        }
      ]
    },
    {
      "cell_type": "markdown",
      "source": [
        "## Libraries\n",
        "Download sampled(100,000) csv in Google Drive"
      ],
      "metadata": {
        "id": "oo7-BXYlI1e7"
      }
    },
    {
      "cell_type": "code",
      "source": [
        "import pandas as pd\n",
        "from datasets import load_dataset\n",
        "dataset = load_dataset(\"gfissore/arxiv-abstracts-2021\", split=\"train\")\n",
        "df = pd.DataFrame(dataset)\n",
        "df_sampled = df.sample(n=100000, random_state=42)\n",
        "df_sampled.to_csv(\"/content/drive/MyDrive/nlp_en/arxiv_abstracts_sampled100000.csv\", index=False)\n",
        "print(\"Dataset saved as arxiv_abstracts_sampled.csv\")"
      ],
      "metadata": {
        "id": "80C35Wcsun8E",
        "colab": {
          "base_uri": "https://localhost:8080/",
          "height": 259,
          "referenced_widgets": [
            "3fe7c575a3414fdca93af0fdf82d3b98",
            "7776f6f837df4b9ca2f795e49511e1b6",
            "9fa35323cd7946118f5d0cee97893687",
            "c50473ca323a47b2b435ee4f4a2a4ce2",
            "97f386f4790647fe9b80758ec1717ac3",
            "7dd2abf030f944ecb37c8c7cdb047360",
            "49574764518d497cafb636d656c0bd62",
            "6f68b29dc66e4600af9bc645521cb854",
            "ea3011830b474341bba612908b53aee4",
            "c84b71102f3f40158929990a7d03f5a5",
            "a31d65a8441e4d0387b84a3f33fc3ff3",
            "22848c2dc94e4e8094558c402a6f7d7a",
            "b60015b94b01479e976d1bdc8f537b00",
            "60a2be312155422fad6249abea324ede",
            "0e6c0acb6ba746d89a7d369df61911b0",
            "eb09380a1df04024894daeab6237b814",
            "c6457efbf3ef4f9a9092a54a87ec3c1e",
            "1012aba775324c4da4bf962bee7d9ccf",
            "1c2e71dda0324645ab202c020cf36c71",
            "af2da693763143b399795d5c16c02c1c",
            "1f0b293d8dd24c40be5f4e3f4a15f398",
            "1e2d5a176c11455b9f1f65e82816a81e",
            "9ed890ccc49148ea99c6d4b77f65e825",
            "04d16ae17b5c42518c2f1bde1db239b4",
            "90702f3b84eb46bba31556514ef4f69a",
            "c71cd9437beb45188208b6e2a690c71a",
            "30c9d506cf1644fb896648dcd13a9019",
            "cada517395364f30910721b28c7b5b5b",
            "a37e6b56877947f9ab942b80dc4af1a1",
            "f8504ddd8cfb42c6a879435b7e9a799e",
            "0a5120da07a846779848503240c8b7b5",
            "16ac3343137d441aa598a54775155a35",
            "9b91cb9ac2434b208f4d0e68a2a81e5f"
          ]
        },
        "outputId": "88c59936-e258-46e2-a434-c152f6f7e6b0",
        "collapsed": true
      },
      "execution_count": null,
      "outputs": [
        {
          "output_type": "stream",
          "name": "stderr",
          "text": [
            "/usr/local/lib/python3.11/dist-packages/huggingface_hub/utils/_auth.py:94: UserWarning: \n",
            "The secret `HF_TOKEN` does not exist in your Colab secrets.\n",
            "To authenticate with the Hugging Face Hub, create a token in your settings tab (https://huggingface.co/settings/tokens), set it as secret in your Google Colab and restart your session.\n",
            "You will be able to reuse this secret in all of your notebooks.\n",
            "Please note that authentication is recommended but still optional to access public models or datasets.\n",
            "  warnings.warn(\n"
          ]
        },
        {
          "output_type": "display_data",
          "data": {
            "text/plain": [
              "README.md:   0%|          | 0.00/6.75k [00:00<?, ?B/s]"
            ],
            "application/vnd.jupyter.widget-view+json": {
              "version_major": 2,
              "version_minor": 0,
              "model_id": "3fe7c575a3414fdca93af0fdf82d3b98"
            }
          },
          "metadata": {}
        },
        {
          "output_type": "display_data",
          "data": {
            "text/plain": [
              "arxiv-abstracts.jsonl.gz:   0%|          | 0.00/940M [00:00<?, ?B/s]"
            ],
            "application/vnd.jupyter.widget-view+json": {
              "version_major": 2,
              "version_minor": 0,
              "model_id": "22848c2dc94e4e8094558c402a6f7d7a"
            }
          },
          "metadata": {}
        },
        {
          "output_type": "display_data",
          "data": {
            "text/plain": [
              "Generating train split:   0%|          | 0/1999486 [00:00<?, ? examples/s]"
            ],
            "application/vnd.jupyter.widget-view+json": {
              "version_major": 2,
              "version_minor": 0,
              "model_id": "9ed890ccc49148ea99c6d4b77f65e825"
            }
          },
          "metadata": {}
        },
        {
          "output_type": "stream",
          "name": "stdout",
          "text": [
            "Dataset saved as arxiv_abstracts_sampled.csv\n"
          ]
        }
      ]
    },
    {
      "cell_type": "markdown",
      "source": [
        "## Read csv"
      ],
      "metadata": {
        "id": "ZKviZLLPI6HL"
      }
    },
    {
      "cell_type": "code",
      "source": [
        "from google.colab import drive\n",
        "drive.mount('/content/drive')\n",
        "import pandas as pd\n",
        "df = pd.read_csv(\"/content/drive/MyDrive/nlp_en/arxiv_abstracts_sampled100000.csv\")\n",
        "# check data types in df\n",
        "print(df.info())\n"
      ],
      "metadata": {
        "id": "MJkcSJK_6BM2",
        "colab": {
          "base_uri": "https://localhost:8080/"
        },
        "outputId": "ebc4ed81-0a46-4f72-9d52-8025c9a15e3d"
      },
      "execution_count": 12,
      "outputs": [
        {
          "output_type": "stream",
          "name": "stdout",
          "text": [
            "Drive already mounted at /content/drive; to attempt to forcibly remount, call drive.mount(\"/content/drive\", force_remount=True).\n",
            "<class 'pandas.core.frame.DataFrame'>\n",
            "RangeIndex: 100000 entries, 0 to 99999\n",
            "Data columns (total 11 columns):\n",
            " #   Column       Non-Null Count   Dtype \n",
            "---  ------       --------------   ----- \n",
            " 0   id           100000 non-null  object\n",
            " 1   submitter    99288 non-null   object\n",
            " 2   authors      100000 non-null  object\n",
            " 3   title        100000 non-null  object\n",
            " 4   comments     77753 non-null   object\n",
            " 5   journal-ref  37314 non-null   object\n",
            " 6   doi          50947 non-null   object\n",
            " 7   abstract     100000 non-null  object\n",
            " 8   report-no    8517 non-null    object\n",
            " 9   categories   100000 non-null  object\n",
            " 10  versions     100000 non-null  object\n",
            "dtypes: object(11)\n",
            "memory usage: 8.4+ MB\n",
            "None\n"
          ]
        }
      ]
    },
    {
      "cell_type": "code",
      "source": [
        "from collections import Counter\n",
        "df['categories'].head(50)\n",
        "print(type(df['categories'][25]))\n",
        "# Column categories contrains a str type with words separated by space, to extract wanted categories, it's better to convert it into a list of words separated by comma"
      ],
      "metadata": {
        "id": "hnFW16ae-qvB",
        "colab": {
          "base_uri": "https://localhost:8080/"
        },
        "outputId": "b2802063-3aa3-465b-e7f3-22a4c8f4963b"
      },
      "execution_count": 6,
      "outputs": [
        {
          "output_type": "stream",
          "name": "stdout",
          "text": [
            "<class 'str'>\n"
          ]
        }
      ]
    },
    {
      "cell_type": "code",
      "source": [
        "# In the original df, the categories column is a string expression like '[...]', to select to domain, we need to turn it into a list\n",
        "# with eval(expr), it can read a str expr and recognize other type expression like [] and return it. We split list's element by space because the domains are separated by space\n",
        "df['categories'] = df['categories'].apply(lambda x: eval(x)[0].split(\" \"))\n",
        "print(df['categories'][25],type(df['categories'][25]),type(df['categories']))"
      ],
      "metadata": {
        "id": "jZuerbvpAFYq",
        "colab": {
          "base_uri": "https://localhost:8080/"
        },
        "outputId": "673ab8eb-b81b-43ce-9900-132a0d07f34b"
      },
      "execution_count": 27,
      "outputs": [
        {
          "output_type": "stream",
          "name": "stdout",
          "text": [
            "['math.AG', 'cs.CC'] <class 'list'> <class 'pandas.core.series.Series'>\n"
          ]
        }
      ]
    },
    {
      "cell_type": "code",
      "source": [
        "# inspect how many different categories are in our df\n",
        "all_categories = [cat for list_of_cate in df['categories'] for cat in list_of_cate] # returns a list of all categories\n",
        "count_cate = Counter(all_categories)\n",
        "print(count_cate)"
      ],
      "metadata": {
        "id": "7Q_o2-P6ANye",
        "colab": {
          "base_uri": "https://localhost:8080/"
        },
        "outputId": "4495f6af-8e5f-47ae-b098-602cc653c8a2"
      },
      "execution_count": 29,
      "outputs": [
        {
          "output_type": "stream",
          "name": "stdout",
          "text": [
            "Counter({'hep-ph': 8219, 'hep-th': 7516, 'quant-ph': 5985, 'astro-ph': 5162, 'cs.LG': 4988, 'gr-qc': 4597, 'cond-mat.mes-hall': 3837, 'cond-mat.mtrl-sci': 3703, 'cs.CV': 3446, 'math-ph': 3399, 'math.MP': 3399, 'cond-mat.stat-mech': 3238, 'cond-mat.str-el': 3107, 'astro-ph.CO': 2933, 'stat.ML': 2624, 'nucl-th': 2545, 'astro-ph.SR': 2527, 'math.CO': 2527, 'math.AP': 2491, 'astro-ph.GA': 2487, 'hep-ex': 2347, 'astro-ph.HE': 2340, 'math.PR': 2312, 'math.AG': 2249, 'cs.AI': 2091, 'cs.IT': 1884, 'math.IT': 1884, 'cond-mat.supr-con': 1853, 'math.DG': 1801, 'physics.optics': 1795, 'math.NT': 1687, 'math.OC': 1680, 'cond-mat.soft': 1668, 'cs.CL': 1574, 'math.DS': 1458, 'math.NA': 1399, 'hep-lat': 1295, 'math.FA': 1261, 'astro-ph.IM': 1156, 'math.RT': 1120, 'nucl-ex': 1080, 'physics.flu-dyn': 1079, 'cs.CR': 1079, 'astro-ph.EP': 1077, 'cond-mat.dis-nn': 1048, 'math.GT': 1014, 'math.ST': 963, 'stat.TH': 963, 'math.CA': 938, 'stat.ME': 932, 'cs.DS': 923, 'physics.soc-ph': 920, 'cs.SY': 892, 'physics.atom-ph': 886, 'math.GR': 885, 'math.QA': 877, 'physics.comp-ph': 868, 'cs.NI': 856, 'cs.RO': 850, 'physics.ins-det': 838, 'cond-mat.quant-gas': 836, 'physics.chem-ph': 824, 'cs.DC': 781, 'eess.SP': 762, 'math.RA': 730, 'cs.SI': 716, 'cond-mat': 709, 'math.CV': 704, 'nlin.CD': 694, 'cs.NA': 693, 'cond-mat.other': 686, 'stat.AP': 670, 'cs.LO': 645, 'math.AT': 641, 'physics.plasm-ph': 633, 'eess.IV': 632, 'physics.app-ph': 619, 'physics.bio-ph': 604, 'cs.SE': 557, 'math.AC': 553, 'math.LO': 546, 'math.OA': 541, 'cs.CY': 536, 'cs.IR': 533, 'nlin.SI': 519, 'cs.NE': 518, 'cs.DM': 516, 'physics.gen-ph': 515, 'eess.SY': 498, 'q-bio.PE': 481, 'cs.HC': 457, 'cs.GT': 447, 'math.MG': 441, 'cs.CC': 433, 'physics.data-an': 429, 'q-bio.QM': 400, 'math.SP': 400, 'nlin.PS': 398, 'math.SG': 390, 'physics.class-ph': 379, 'math.CT': 371, 'cs.SD': 364, 'eess.AS': 347, 'cs.DB': 336, 'q-bio.NC': 333, 'stat.CO': 327, 'physics.acc-ph': 312, 'nlin.AO': 308, 'cs.PL': 281, 'cs.CG': 276, 'physics.med-ph': 267, 'physics.geo-ph': 260, 'physics.ao-ph': 256, 'cs.MA': 249, 'physics.space-ph': 242, 'math.KT': 236, 'cs.CE': 231, 'q-bio.BM': 225, 'math.GN': 210, 'physics.hist-ph': 194, 'cs.MM': 185, 'cs.FL': 173, 'cs.GR': 168, 'physics.ed-ph': 166, 'math.GM': 163, 'cs.PF': 162, 'q-bio.MN': 158, 'q-fin.ST': 156, 'cs.DL': 153, 'math.HO': 150, 'cs.AR': 142, 'cs.ET': 140, 'physics.atm-clus': 135, 'chao-dyn': 125, 'q-fin.EC': 122, 'q-fin.GN': 114, 'q-bio.GN': 110, 'cs.SC': 110, 'econ.EM': 106, 'cs.OH': 104, 'physics.pop-ph': 104, 'q-bio.TO': 102, 'q-fin.MF': 100, 'econ.GN': 99, 'cs.MS': 98, 'q-fin.RM': 86, 'q-bio.CB': 84, 'q-fin.TR': 78, 'q-alg': 77, 'q-fin.CP': 77, 'alg-geom': 74, 'q-fin.PR': 68, 'solv-int': 68, 'q-bio.SC': 64, 'econ.TH': 63, 'q-bio': 63, 'q-fin.PM': 60, 'q-bio.OT': 57, 'stat.OT': 56, 'nlin.CG': 56, 'patt-sol': 41, 'cmp-lg': 41, 'dg-ga': 40, 'adap-org': 33, 'cs.OS': 31, 'funct-an': 22, 'chem-ph': 17, 'comp-gas': 13, 'mtrl-th': 8, 'atom-ph': 8, 'cs.GL': 7, 'supr-con': 4, 'plasm-ph': 3, 'ao-sci': 1})\n"
          ]
        }
      ]
    },
    {
      "cell_type": "markdown",
      "source": [
        "## Choice of domains\n",
        "Some categories may contains multiple domains like `[cs,math,physics]` here, I choose to select categories contaning only a main domains like math or cs or physics"
      ],
      "metadata": {
        "id": "D2wqVdMfHdmQ"
      }
    },
    {
      "cell_type": "code",
      "source": [
        "def filter_domain(domain:str,list_domain:list)->bool:\n",
        "        return all(domain in name for name in list_domain)\n",
        "\n",
        "# deal with some html crab issues\n",
        "df['abstract'] = df['abstract'].apply(lambda x: x.replace(\"\\n\",\" \"))\n",
        "\n",
        "# df[boolmask], the boolmask behaves like a dict n_row:bool, our df will only select thoes rows are True\n",
        "# 10,000 samples for each domain\n",
        "\n",
        "cate_math = df[df['categories'].apply(lambda x: filter_domain(\"math\",x))].sample(n=10000, random_state=42).reset_index(drop=True)\n",
        "\n",
        "cate_cs = df[df['categories'].apply(lambda x: filter_domain(\"cs\",x))].sample(n=10000, random_state=42).reset_index(drop=True)\n",
        "\n",
        "cate_astro = df[df['categories'].apply(lambda x: filter_domain(\"astro\",x))].sample(n=10000, random_state=42).reset_index(drop=True)\n",
        "\n",
        "\n",
        "print(cate_math.shape,cate_cs.shape,cate_astro.shape,sep=\"\\n\")"
      ],
      "metadata": {
        "colab": {
          "base_uri": "https://localhost:8080/"
        },
        "id": "XT1AsgGlDes1",
        "outputId": "de08b698-c8f5-4184-c6ab-e70ec3a12e8e"
      },
      "execution_count": 30,
      "outputs": [
        {
          "output_type": "stream",
          "name": "stdout",
          "text": [
            "(10000, 11)\n",
            "(10000, 11)\n",
            "(10000, 11)\n"
          ]
        }
      ]
    },
    {
      "cell_type": "markdown",
      "source": [
        "## Preprocess column abstract with nltk\n",
        "- lowercase\n",
        "- stopwords\n",
        "- punk\n",
        "- segmentation of sentences\n",
        "- stemmatization"
      ],
      "metadata": {
        "id": "iV94ES3JJXFv"
      }
    },
    {
      "cell_type": "code",
      "source": [
        "import nltk\n",
        "from nltk.corpus import stopwords\n",
        "import numpy as np\n",
        "from nltk.tokenize import sent_tokenize\n",
        "from nltk.stem import PorterStemmer\n",
        "# nltk.download('punkt_tab')\n",
        "# nltk.download('stopwords')\n",
        "stop_words = set(stopwords.words('english'))\n",
        "stem = PorterStemmer()\n",
        "\n",
        "def preprocess(corpus:str) -> str:\n",
        "    '''\n",
        "    Corpus needs to be segmented\n",
        "    '''\n",
        "    sents:list = sent_tokenize(corpus.lower())\n",
        "    # remove punk and stopwords\n",
        "    cleaned_sets = []\n",
        "    for sent in sents:\n",
        "        current_sent = [stem.stem(word) for word in sent.split() if word.isalnum() and word not in stop_words]\n",
        "        cleaned_sets.extend(current_sent) # a list of single words\n",
        "    return \" \".join(cleaned_sets)\n",
        "\n",
        "cate_math[\"processed_abstact\"] = cate_math['abstract'].apply(preprocess)\n",
        "cate_cs[\"processed_abstact\"] = cate_cs['abstract'].apply(preprocess)\n",
        "cate_astro[\"processed_abstact\"] = cate_astro['abstract'].apply(preprocess)\n",
        "\n",
        "print(cate_math[\"processed_abstact\"].head(),cate_cs[\"processed_abstact\"].head(),cate_astro[\"processed_abstact\"].head())\n"
      ],
      "metadata": {
        "colab": {
          "base_uri": "https://localhost:8080/"
        },
        "id": "mIH2GqPPObkQ",
        "outputId": "5c3311d8-4156-4a84-fae3-236e513a760b"
      },
      "execution_count": 52,
      "outputs": [
        {
          "output_type": "stream",
          "name": "stdout",
          "text": [
            "synthet data gener becom preval solut privaci leakag data gener model design gener realist synthet precis express data distribut real gener adversari network gain great success comput vision doubtlessli use synthet data though prior work demonstr great learn correl data distribut rather true process dataset natur correl reliabl statist techniqu tell linear depend easili affect encod underli factor real data natur reliabl propos causal model name causal tabular gener neural network gener synthet tabular data use tabular causal extens experi simul dataset real dataset demonstr better perform method given true causal graph compar perform use estim causal\n"
          ]
        }
      ]
    },
    {
      "cell_type": "markdown",
      "source": [
        "## Contextes are sensible to period of corpus"
      ],
      "metadata": {
        "id": "9u0vGc_hCIcF"
      }
    },
    {
      "cell_type": "markdown",
      "source": [
        "### **2️⃣ Train Word2Vec Models**\n",
        "\n",
        "Train separate **Word2Vec models** on each domain-specific corpus.\n",
        "\n",
        "📌 **Implementation Steps:**\n",
        "\n",
        "```python\n",
        "from gensim.models import Word2Vec\n",
        "from nltk.tokenize import word_tokenize\n",
        "\n",
        "# Load and tokenize text corpus\n",
        "def preprocess_text(text):\n",
        "    # TODO\n",
        "\n",
        "# Example corpus (Replace with real domain text)\n",
        "domain_corpus = [\"Machine learning is advancing AI.\", \"Deep learning improves NLP.\"]\n",
        "tokenized_corpus = preprocess_text(domain_corpus)\n",
        "\n",
        "# Train Word2Vec model\n",
        "# TODO: read gensim documentation:\n",
        "# https://radimrehurek.com/gensim/models/word2vec.html\n",
        "# https://radimrehurek.com/gensim/auto_examples/tutorials/run_word2vec.html#sphx-glr-auto-examples-tutorials-run-word2vec-py\n",
        "\n",
        "model_domain1.save(\"word2vec_domain1.model\")\n",
        "model_domain2.save(\"word2vec_domain2.model\")\n",
        "# ...\n",
        "```\n",
        "\n",
        "🔹 Use the **same hyperparameters** across all domains for fair comparison.\n",
        "\n",
        "📌 **Deliverable:** Trained Word2Vec models for different domains."
      ],
      "metadata": {
        "id": "a1nlJb-XuQxk"
      }
    },
    {
      "cell_type": "code",
      "source": [],
      "metadata": {
        "id": "WXzxauMMuooY"
      },
      "execution_count": null,
      "outputs": []
    },
    {
      "cell_type": "code",
      "source": [],
      "metadata": {
        "id": "TcZCtu3Huor-"
      },
      "execution_count": null,
      "outputs": []
    },
    {
      "cell_type": "markdown",
      "source": [
        "\n",
        "### **3️⃣ Word Similarity Comparison**\n",
        "Compare how different domains represent words.\n",
        "\n",
        "📌 **Task**: Select **5 key terms** and find their closest words using cosine similarity.\n",
        "\n",
        "For example:\n",
        "```python\n",
        "word = \"network\"\n",
        "print(model_domain1.wv.most_similar(word, topn=5))\n",
        "print(model_domain2.wv.most_similar(word, topn=5))\n",
        "```\n",
        "\n",
        "📌 **Deliverable:** Table comparing top similar words per domain.\n",
        "\n"
      ],
      "metadata": {
        "id": "qv-vz223utTU"
      }
    },
    {
      "cell_type": "code",
      "source": [],
      "metadata": {
        "id": "9fNjp6oAsoBc"
      },
      "execution_count": null,
      "outputs": []
    },
    {
      "cell_type": "code",
      "source": [],
      "metadata": {
        "id": "vq3jk6ZQvJin"
      },
      "execution_count": null,
      "outputs": []
    },
    {
      "cell_type": "markdown",
      "source": [
        "###**4️⃣ Word Analogy Task (Word Relationship Tests)**\n",
        "Test how embeddings encode semantic relationships.\n",
        "\n",
        "📌 **Task:** Compute word analogies manually using vector arithmetic.\n",
        "\n",
        "```python\n",
        "def compute_analogy(word_a, word_b, word_c, model):\n",
        "    vec = # TODO\n",
        "    return model.wv.similar_by_vector(vec, topn=5)\n",
        "\n",
        "print(compute_analogy(\"algorithm\", \"software\", \"hardware\", model))\n",
        "```\n",
        "\n",
        "📌 **Deliverable:** Compute at least 5 analogies for each domain and compare results.\n",
        "\n"
      ],
      "metadata": {
        "id": "CDdYFMqXvJyf"
      }
    },
    {
      "cell_type": "code",
      "source": [],
      "metadata": {
        "id": "y9hqq8rwvW_P"
      },
      "execution_count": null,
      "outputs": []
    },
    {
      "cell_type": "code",
      "source": [],
      "metadata": {
        "id": "zQ_qIrRQv7mz"
      },
      "execution_count": null,
      "outputs": []
    },
    {
      "cell_type": "markdown",
      "source": [
        "### **5️⃣ Visualization: PCA/t-SNE of Embeddings**\n",
        "\n",
        "Use PCA or t-SNE to visualize embeddings and analyze clustering.\n",
        "\n",
        "📌 **Deliverable:** Visualization of word clusters."
      ],
      "metadata": {
        "id": "Y3K9UB3rv75R"
      }
    },
    {
      "cell_type": "code",
      "source": [],
      "metadata": {
        "id": "ytYRj4towLYP"
      },
      "execution_count": null,
      "outputs": []
    },
    {
      "cell_type": "code",
      "source": [],
      "metadata": {
        "id": "i--Ea4oiwMNU"
      },
      "execution_count": null,
      "outputs": []
    },
    {
      "cell_type": "markdown",
      "source": [
        "###**Discussion:**\n",
        "\n",
        "- What differences were observed between embeddings from different domains?\n",
        "\n",
        "- What were the most surprising similarities/differences?\n",
        "\n",
        "- How does the domain-specific corpus affect word representations?\n",
        "\n",
        "- Find cases where the analogy fails, and discuss why the model makes mistakes:\n",
        "  - Not enough training data?\n",
        "  - Context-dependent meanings?\n",
        "  - Training corpus bias?\n",
        "\n",
        "- Any other interesting findings?\n"
      ],
      "metadata": {
        "id": "Bd4KbzcbwMmz"
      }
    },
    {
      "cell_type": "code",
      "source": [],
      "metadata": {
        "id": "ZL6fMlQizGZC"
      },
      "execution_count": null,
      "outputs": []
    },
    {
      "cell_type": "code",
      "source": [],
      "metadata": {
        "id": "5W-VeFZpwpM3"
      },
      "execution_count": null,
      "outputs": []
    },
    {
      "cell_type": "markdown",
      "source": [
        "### **6️⃣ Optional Task (bonus):**\n",
        "1. Compare your trained Word2Vec models with other online pre-trained Word2Vec models. Find existing models from: [Gensim-data repository](https://github.com/piskvorky/gensim-data)\n",
        "2. Train a simple classification model using Word2Vec (can be your own trained model or online word embedding models) vectors as text representation (e.g., classify abstract domain).\n",
        "\n",
        "📌 **Deliverable:** Optional results and analysis for either or both tasks."
      ],
      "metadata": {
        "id": "BrAU7eaF2QT4"
      }
    },
    {
      "cell_type": "code",
      "source": [],
      "metadata": {
        "id": "Hzp7JBgo4Hlk"
      },
      "execution_count": null,
      "outputs": []
    },
    {
      "cell_type": "code",
      "source": [],
      "metadata": {
        "id": "-LidaZzf4HoK"
      },
      "execution_count": null,
      "outputs": []
    },
    {
      "cell_type": "markdown",
      "source": [
        "# **Project Submission**\n",
        "\n",
        "📅 **Deadline:** 27/04/2025\n",
        "\n",
        "📌 **Submission Format:**\n",
        "\n",
        "* Jupyter Notebook (.ipynb) with code and analysis.\n",
        "\n",
        "* Conversation with AI Chatbot (if used, attach the conversation along with a brief report explaining what you learned from it)\n",
        "\n",
        "🚀 **Good luck! Explore, compare, and understand embeddings!** 🚀\n"
      ],
      "metadata": {
        "id": "7w2zqI4Tw7IM"
      }
    },
    {
      "cell_type": "code",
      "source": [],
      "metadata": {
        "id": "-jJ0R9vOxSuA"
      },
      "execution_count": null,
      "outputs": []
    },
    {
      "cell_type": "code",
      "source": [],
      "metadata": {
        "id": "8_iYgK7XyhxC"
      },
      "execution_count": null,
      "outputs": []
    }
  ]
}